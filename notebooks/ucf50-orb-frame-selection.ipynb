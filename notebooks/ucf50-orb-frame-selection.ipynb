{
 "cells": [
  {
   "cell_type": "code",
   "execution_count": 26,
   "metadata": {},
   "outputs": [],
   "source": [
    "import os\n",
    "import cv2\n",
    "import numpy as np"
   ]
  },
  {
   "cell_type": "code",
   "execution_count": 27,
   "metadata": {},
   "outputs": [],
   "source": [
    "def preprocess_frame(frame):\n",
    "    # Apply filtering, smoothing, sharpening, and adjusting brightness and contrast\n",
    "    blurred = cv2.GaussianBlur(frame, (5, 5), 0)\n",
    "    kernel = np.array([[0, -1, 0], [-1, 5, -1], [0, -1, 0]])\n",
    "    sharpened = cv2.filter2D(blurred, -1, kernel)\n",
    "    alpha = 1.1  # Contrast control\n",
    "    beta = 15    # Brightness control\n",
    "    adjusted = cv2.convertScaleAbs(sharpened, alpha=alpha, beta=beta)\n",
    "    \n",
    "    # Normalize the image\n",
    "    normalized = cv2.normalize(adjusted, None, 0, 255, cv2.NORM_MINMAX)\n",
    "    \n",
    "    return normalized\n",
    "\n",
    "def save_frames_as_avi(frames, output_path, fps=30):\n",
    "    if not frames:\n",
    "        print(\"No frames to save.\")\n",
    "        return\n",
    "    \n",
    "    height, width, layers = frames[0].shape\n",
    "    size = (width, height)\n",
    "    \n",
    "    out = cv2.VideoWriter(output_path, cv2.VideoWriter_fourcc(*'XVID'), fps, size)\n",
    "    \n",
    "    for frame in frames:\n",
    "        out.write(frame)\n",
    "    \n",
    "    out.release()\n",
    "    print(f\"Video saved as {output_path}\")"
   ]
  },
  {
   "cell_type": "code",
   "execution_count": 28,
   "metadata": {},
   "outputs": [],
   "source": [
    "def ucf50_preprocessing(data_dir, output_dir, class_names, number_of_frames, threshold=60):\n",
    "    orb = cv2.ORB_create()\n",
    "    for class_name in class_names:\n",
    "        class_input_path = os.path.join(data_dir, class_name)\n",
    "        output_class_path = os.path.join(output_dir, class_name)\n",
    "        os.makedirs(output_class_path, exist_ok=True)\n",
    "        \n",
    "        for video_name in os.listdir(class_input_path):\n",
    "            video_path = os.path.join(class_input_path, video_name)\n",
    "            cap = cv2.VideoCapture(video_path)\n",
    "            relevant_frames = []\n",
    "            all_frames = []\n",
    "            prev_descriptors = None\n",
    "            total_frames = 0\n",
    "            \n",
    "            while True:\n",
    "                ret, frame = cap.read()\n",
    "                if not ret:\n",
    "                    break\n",
    "                \n",
    "                total_frames += 1\n",
    "                all_frames.append(frame)\n",
    "                processed_frame = preprocess_frame(frame)\n",
    "                keypoints, descriptors = orb.detectAndCompute(processed_frame, None)\n",
    "                \n",
    "                if descriptors is not None and len(descriptors) > 0:\n",
    "                    if prev_descriptors is None:\n",
    "                        relevant_frames.append(frame)\n",
    "                    else:\n",
    "                        # Compute the distance between descriptors\n",
    "                        bf = cv2.BFMatcher(cv2.NORM_HAMMING, crossCheck=True)\n",
    "                        matches = bf.match(prev_descriptors, descriptors)\n",
    "                        distances = [m.distance for m in matches]\n",
    "                        avg_distance = np.mean(distances)\n",
    "                        \n",
    "                        if avg_distance > threshold:\n",
    "                            relevant_frames.append(frame)\n",
    "                    \n",
    "                    prev_descriptors = descriptors\n",
    "            \n",
    "            cap.release()\n",
    "            \n",
    "            # Ensure minimum number of frames is at least 10\n",
    "            if len(relevant_frames) < number_of_frames:\n",
    "                needed_frames = number_of_frames - len(relevant_frames)\n",
    "                relevant_frames.extend(all_frames[:needed_frames])\n",
    "            \n",
    "            print(f\"Video: {video_name}\")\n",
    "            print(f\"Total frames: {total_frames}\")\n",
    "            print(f\"Selected frames: {len(relevant_frames)}\\n\")\n",
    "            \n",
    "            # Save the selected frames as an AVI video\n",
    "            output_video_path = os.path.join(output_class_path, video_name)\n",
    "            save_frames_as_avi(relevant_frames, output_video_path)"
   ]
  },
  {
   "cell_type": "code",
   "execution_count": null,
   "metadata": {},
   "outputs": [],
   "source": [
    "data_dir = '../data/raw/UCF50'"
   ]
  },
  {
   "cell_type": "code",
   "execution_count": null,
   "metadata": {},
   "outputs": [],
   "source": [
    "class_names = os.listdir(data_dir)"
   ]
  },
  {
   "cell_type": "code",
   "execution_count": null,
   "metadata": {},
   "outputs": [],
   "source": [
    "output_dir = '../data/processed/ORB'"
   ]
  },
  {
   "cell_type": "code",
   "execution_count": null,
   "metadata": {},
   "outputs": [],
   "source": [
    "ucf50_preprocessing(data_dir, output_dir, class_names, number_of_frames=30, threshold=50)"
   ]
  }
 ],
 "metadata": {
  "kernelspec": {
   "display_name": ".venv",
   "language": "python",
   "name": "python3"
  },
  "language_info": {
   "codemirror_mode": {
    "name": "ipython",
    "version": 3
   },
   "file_extension": ".py",
   "mimetype": "text/x-python",
   "name": "python",
   "nbconvert_exporter": "python",
   "pygments_lexer": "ipython3",
   "version": "3.12.6"
  }
 },
 "nbformat": 4,
 "nbformat_minor": 2
}
