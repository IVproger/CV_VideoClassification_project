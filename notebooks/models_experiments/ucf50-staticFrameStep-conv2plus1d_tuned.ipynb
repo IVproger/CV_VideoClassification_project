{
 "cells": [
  {
   "cell_type": "code",
   "execution_count": 1,
   "metadata": {
    "execution": {
     "iopub.execute_input": "2024-11-21T18:33:35.567100Z",
     "iopub.status.busy": "2024-11-21T18:33:35.566748Z",
     "iopub.status.idle": "2024-11-21T18:33:44.755638Z",
     "shell.execute_reply": "2024-11-21T18:33:44.754535Z",
     "shell.execute_reply.started": "2024-11-21T18:33:35.567066Z"
    },
    "trusted": true
   },
   "outputs": [
    {
     "name": "stdout",
     "output_type": "stream",
     "text": [
      "Requirement already satisfied: einops in /home/i_golov/.cache/pypoetry/virtualenvs/test-CNQ6TiHS-py3.12/lib/python3.12/site-packages (0.8.0)\n",
      "\n",
      "\u001b[1m[\u001b[0m\u001b[34;49mnotice\u001b[0m\u001b[1;39;49m]\u001b[0m\u001b[39;49m A new release of pip is available: \u001b[0m\u001b[31;49m24.2\u001b[0m\u001b[39;49m -> \u001b[0m\u001b[32;49m24.3.1\u001b[0m\n",
      "\u001b[1m[\u001b[0m\u001b[34;49mnotice\u001b[0m\u001b[1;39;49m]\u001b[0m\u001b[39;49m To update, run: \u001b[0m\u001b[32;49mpip install --upgrade pip\u001b[0m\n"
     ]
    }
   ],
   "source": [
    "!pip install einops"
   ]
  },
  {
   "cell_type": "code",
   "execution_count": 2,
   "metadata": {
    "execution": {
     "iopub.execute_input": "2024-11-21T18:36:28.774040Z",
     "iopub.status.busy": "2024-11-21T18:36:28.773684Z",
     "iopub.status.idle": "2024-11-21T18:36:28.779403Z",
     "shell.execute_reply": "2024-11-21T18:36:28.778527Z",
     "shell.execute_reply.started": "2024-11-21T18:36:28.774009Z"
    },
    "id": "EYmpx85h8d7W",
    "trusted": true
   },
   "outputs": [],
   "source": [
    "from tqdm import tqdm\n",
    "import random\n",
    "import collections\n",
    "from pathlib import Path\n",
    "import shutil\n",
    "\n",
    "import cv2\n",
    "import einops\n",
    "import numpy as np\n",
    "import matplotlib.pyplot as plt\n",
    "import math\n",
    "\n",
    "import torch\n",
    "import torch.nn as nn\n",
    "import torch.nn.functional as F\n",
    "\n",
    "import torchvision.transforms as T\n",
    "from torch.utils.data import Dataset, DataLoader\n",
    "import tqdm"
   ]
  },
  {
   "cell_type": "code",
   "execution_count": 3,
   "metadata": {
    "execution": {
     "iopub.execute_input": "2024-11-21T18:33:55.519667Z",
     "iopub.status.busy": "2024-11-21T18:33:55.518989Z",
     "iopub.status.idle": "2024-11-21T18:33:55.538790Z",
     "shell.execute_reply": "2024-11-21T18:33:55.537968Z",
     "shell.execute_reply.started": "2024-11-21T18:33:55.519632Z"
    },
    "id": "3UH3LRbS8HSc",
    "trusted": true
   },
   "outputs": [],
   "source": [
    "import collections\n",
    "import random\n",
    "from pathlib import Path\n",
    "import shutil\n",
    "import tqdm\n",
    "import numpy as np\n",
    "import torch\n",
    "from torch.utils.data import Dataset, DataLoader\n",
    "import torchvision.transforms as T\n",
    "import cv2\n",
    "import math\n",
    "\n",
    "def list_files_per_class(root_dir):\n",
    "    \"\"\"\n",
    "    List the files in each class of the dataset given the root directory.\n",
    "\n",
    "    Args:\n",
    "      root_dir: Root directory where files are unzipped.\n",
    "\n",
    "    Return:\n",
    "      files: List of files in each of the classes.\n",
    "    \"\"\"\n",
    "    files = []\n",
    "    root_path = Path(root_dir)\n",
    "    for file_path in root_path.rglob('*'):  # Recursively list all files\n",
    "        if file_path.is_file():\n",
    "            files.append(str(file_path.relative_to(root_path)))\n",
    "    return files\n",
    "\n",
    "def get_class(fname):\n",
    "    \"\"\"\n",
    "    Retrieve the name of the class given a filename.\n",
    "\n",
    "    Args:\n",
    "      fname: Name of the file in the UCF50 dataset.\n",
    "\n",
    "    Return:\n",
    "      Class that the file belongs to.\n",
    "    \"\"\"\n",
    "    return fname.split('_')[-3]\n",
    "\n",
    "def get_files_per_class(files):\n",
    "    \"\"\"\n",
    "    Retrieve the files that belong to each class.\n",
    "\n",
    "    Args:\n",
    "      files: List of files in the dataset.\n",
    "\n",
    "    Return:\n",
    "      Dictionary of class names (key) and files (values).\n",
    "    \"\"\"\n",
    "    files_for_class = collections.defaultdict(list)\n",
    "    for fname in files:\n",
    "        class_name = get_class(fname)\n",
    "        files_for_class[class_name].append(fname)\n",
    "    return files_for_class\n",
    "\n",
    "def split_class_lists(files_for_class, count):\n",
    "    \"\"\"\n",
    "    Returns the list of files belonging to a subset of data as well as the remainder of\n",
    "    files that need to be downloaded.\n",
    "\n",
    "    Args:\n",
    "      files_for_class: Files belonging to a particular class of data.\n",
    "      count: Number of files to download.\n",
    "\n",
    "    Return:\n",
    "      split_files: Files belonging to the subset of data.\n",
    "      remainder: Dictionary of the remainder of files that need to be downloaded.\n",
    "    \"\"\"\n",
    "    split_files = []\n",
    "    remainder = {}\n",
    "    for cls in files_for_class:\n",
    "        split_files.extend(files_for_class[cls][:count])\n",
    "        remainder[cls] = files_for_class[cls][count:]\n",
    "    return split_files, remainder\n",
    "\n",
    "def organize_dataset(root_dir, num_classes, splits):\n",
    "    \"\"\"\n",
    "    Organize a dataset into class-based directories and split them into various parts.\n",
    "\n",
    "    Args:\n",
    "      root_dir: Root directory where files are currently unzipped.\n",
    "      num_classes: Number of labels.\n",
    "      splits: Dictionary specifying the training, validation, test, etc. (key) division of data\n",
    "              (value is number of files per split).\n",
    "\n",
    "    Return:\n",
    "      split_files: Dictionary of split names and their corresponding file lists.\n",
    "    \"\"\"\n",
    "    files = list_files_per_class(root_dir)\n",
    "    files_for_class = get_files_per_class(files)\n",
    "    \n",
    "    classes = list(files_for_class.keys())[:num_classes]\n",
    "    \n",
    "    for cls in classes:\n",
    "        random.shuffle(files_for_class[cls])\n",
    "    \n",
    "    # Filter for the desired number of classes\n",
    "    files_for_class = {cls: files_for_class[cls] for cls in classes}\n",
    "    \n",
    "    split_files = {}\n",
    "    for split_name, split_count in splits.items():\n",
    "        split_files[split_name], files_for_class = split_class_lists(files_for_class, split_count)\n",
    "    \n",
    "    return split_files\n",
    "\n",
    "def format_frames(frame, output_size):\n",
    "    \"\"\"\n",
    "    Pad and resize an image from a video.\n",
    "\n",
    "    Args:\n",
    "      frame: Image that needs to be resized and padded.\n",
    "      output_size: Pixel size of the output frame image (height, width).\n",
    "\n",
    "    Returns:\n",
    "      Formatted frame with padding of specified output size.\n",
    "    \"\"\"\n",
    "    frame = frame.astype(float) / 255.0\n",
    "    frame = np.transpose(frame, (2, 0, 1))\n",
    "    transform = T.Compose([\n",
    "        T.Resize(output_size)\n",
    "    ])\n",
    "    frame = transform(torch.from_numpy(frame))\n",
    "    return frame\n",
    "\n",
    "def set_frame_step(video_length, n_frames):\n",
    "    frame_step = math.floor(video_length / n_frames)\n",
    "    return frame_step\n",
    "\n",
    "def frames_from_video_file(video_path, n_frames, output_size=(224, 224), frame_step=15):\n",
    "    \"\"\"\n",
    "    Creates frames from each video file present for each category.\n",
    "\n",
    "    Args:\n",
    "      video_path: File path to the video.\n",
    "      n_frames: Number of frames to be created per video file.\n",
    "      output_size: Pixel size of the output frame image.\n",
    "\n",
    "    Return:\n",
    "      An NumPy array of frames in the shape of (n_frames, height, width, channels).\n",
    "    \"\"\"\n",
    "    # Read each video frame by frame\n",
    "    result = []\n",
    "    src = cv2.VideoCapture(str(video_path))\n",
    "\n",
    "    video_length = src.get(cv2.CAP_PROP_FRAME_COUNT)\n",
    "\n",
    "    if frame_step < 0:\n",
    "        frame_step = set_frame_step(video_length, n_frames)\n",
    "\n",
    "    need_length = 1 + (n_frames - 1) * frame_step\n",
    "\n",
    "    if need_length > video_length:\n",
    "        start = 0\n",
    "    else:\n",
    "        max_start = video_length - need_length\n",
    "        start = random.randint(0, int(max_start) + 1)\n",
    "\n",
    "    src.set(cv2.CAP_PROP_POS_FRAMES, start)\n",
    "    # ret is a boolean indicating whether read was successful, frame is the image itself\n",
    "    ret, frame = src.read()\n",
    "    result.append(format_frames(frame, output_size))\n",
    "\n",
    "    for i in range(n_frames - 1):\n",
    "        for j in range(frame_step):\n",
    "            ret, frame = src.read()\n",
    "        if ret:\n",
    "            frame = format_frames(frame, output_size)\n",
    "            result.append(frame)\n",
    "        else:\n",
    "            result.append(np.zeros_like(result[0]))\n",
    "    src.release()\n",
    "    result = np.array(result)  # [..., [2, 1, 0]]\n",
    "    return np.transpose(result, (1, 2, 3, 0))\n",
    "\n",
    "class FrameGeneratorDataset(Dataset):\n",
    "    def __init__(self, file_paths, root_dir, n_frames, training=False, frame_step=15):\n",
    "        \"\"\"\n",
    "        Returns a set of frames with their associated label.\n",
    "\n",
    "        Args:\n",
    "          file_paths: List of file paths.\n",
    "          root_dir: Root directory where files are stored.\n",
    "          n_frames: Number of frames to extract from each video.\n",
    "          training: Boolean indicating if this is the training dataset (to enable shuffling).\n",
    "        \"\"\"\n",
    "        self.file_paths = file_paths\n",
    "        self.root_dir = Path(root_dir)\n",
    "        self.n_frames = n_frames\n",
    "        self.training = training\n",
    "        self.frame_step = frame_step\n",
    "\n",
    "        # Get all class names and assign a unique ID to each\n",
    "        self.class_names = sorted(set(get_class(p) for p in self.file_paths))\n",
    "        self.class_ids_for_name = {name: idx for idx, name in enumerate(self.class_names)}\n",
    "\n",
    "        # Shuffle the file paths if in training mode\n",
    "        if self.training:\n",
    "            random.shuffle(self.file_paths)\n",
    "\n",
    "    def __len__(self):\n",
    "        # Return the number of video files available\n",
    "        return len(self.file_paths)\n",
    "\n",
    "    def __getitem__(self, idx):\n",
    "        \"\"\"\n",
    "        Retrieve frames and the label for a given video index.\n",
    "\n",
    "        Args:\n",
    "          idx: Index of the video to retrieve.\n",
    "\n",
    "        Returns:\n",
    "          A tuple (frames, label) where frames are the extracted frames from the video,\n",
    "          and label is the encoded class label.\n",
    "        \"\"\"\n",
    "        fname = self.file_paths[idx]\n",
    "        path = self.root_dir / fname\n",
    "        class_name = get_class(fname)\n",
    "\n",
    "        # Extract frames from the video file\n",
    "        video_frames = frames_from_video_file(path, self.n_frames, frame_step=self.frame_step)\n",
    "\n",
    "        # Get label by encoding the class name\n",
    "        label = self.class_ids_for_name[class_name]\n",
    "\n",
    "        # Convert frames and label to tensors\n",
    "        video_frames = torch.tensor(video_frames, dtype=torch.float32)\n",
    "        label = torch.tensor(label, dtype=torch.int64)\n",
    "\n",
    "        return video_frames, label"
   ]
  },
  {
   "cell_type": "code",
   "execution_count": 4,
   "metadata": {
    "colab": {
     "base_uri": "https://localhost:8080/"
    },
    "execution": {
     "iopub.execute_input": "2024-11-21T18:34:12.413224Z",
     "iopub.status.busy": "2024-11-21T18:34:12.412886Z",
     "iopub.status.idle": "2024-11-21T18:34:33.865022Z",
     "shell.execute_reply": "2024-11-21T18:34:33.864068Z",
     "shell.execute_reply.started": "2024-11-21T18:34:12.413197Z"
    },
    "id": "_UN2DthzA7-n",
    "outputId": "83905118-093e-435d-a872-6d4dcfebe416",
    "trusted": true
   },
   "outputs": [],
   "source": [
    "root_dir = 'raw/UCF50'\n",
    "num_classes = 50\n",
    "subset_paths = organize_dataset(root_dir,\n",
    "                        num_classes = num_classes,\n",
    "                        splits = {\"train\": 70, \"val\": 15, \"test\": 15})"
   ]
  },
  {
   "cell_type": "code",
   "execution_count": 5,
   "metadata": {
    "execution": {
     "iopub.execute_input": "2024-11-21T18:34:37.099167Z",
     "iopub.status.busy": "2024-11-21T18:34:37.098553Z",
     "iopub.status.idle": "2024-11-21T18:34:37.107663Z",
     "shell.execute_reply": "2024-11-21T18:34:37.107022Z",
     "shell.execute_reply.started": "2024-11-21T18:34:37.099138Z"
    },
    "id": "_VHmav_ICfGP",
    "trusted": true
   },
   "outputs": [],
   "source": [
    "# Parameters\n",
    "n_frames = 20\n",
    "batch_size = 128\n",
    "\n",
    "# Dataset paths\n",
    "train_dataset = FrameGeneratorDataset(subset_paths['train'], root_dir, n_frames, training=True)\n",
    "val_dataset = FrameGeneratorDataset(subset_paths['val'], root_dir, n_frames, training=False)\n",
    "test_dataset = FrameGeneratorDataset(subset_paths['test'], root_dir, n_frames, training=False)\n",
    "\n",
    "# DataLoaders with batching\n",
    "train_loader = DataLoader(train_dataset, batch_size=batch_size, shuffle=True)\n",
    "val_loader = DataLoader(val_dataset, batch_size=batch_size, shuffle=False)\n",
    "test_loader = DataLoader(test_dataset, batch_size=batch_size, shuffle=False)"
   ]
  },
  {
   "cell_type": "code",
   "execution_count": 6,
   "metadata": {
    "execution": {
     "iopub.execute_input": "2024-11-21T18:34:39.879677Z",
     "iopub.status.busy": "2024-11-21T18:34:39.878988Z",
     "iopub.status.idle": "2024-11-21T18:34:39.883774Z",
     "shell.execute_reply": "2024-11-21T18:34:39.882823Z",
     "shell.execute_reply.started": "2024-11-21T18:34:39.879643Z"
    },
    "id": "YVeE3AVtC11c",
    "trusted": true
   },
   "outputs": [],
   "source": [
    "# Define the dimensions of one frame in the set of frames created\n",
    "HEIGHT = 224\n",
    "WIDTH = 224"
   ]
  },
  {
   "cell_type": "code",
   "execution_count": 7,
   "metadata": {
    "execution": {
     "iopub.execute_input": "2024-11-21T18:34:42.467405Z",
     "iopub.status.busy": "2024-11-21T18:34:42.466827Z",
     "iopub.status.idle": "2024-11-21T18:34:42.473478Z",
     "shell.execute_reply": "2024-11-21T18:34:42.472607Z",
     "shell.execute_reply.started": "2024-11-21T18:34:42.467369Z"
    },
    "id": "BLao_9T5DG6u",
    "trusted": true
   },
   "outputs": [],
   "source": [
    "class Conv2Plus1D(nn.Module):\n",
    "    def __init__(self, input_channels, filters, kernel_size, device):\n",
    "        \"\"\"\n",
    "        A sequence of convolutional layers that first apply the convolution operation over the\n",
    "        spatial dimensions, and then the temporal dimension.\n",
    "\n",
    "        Args:\n",
    "          filters (int): Number of filters in each convolutional layer.\n",
    "          kernel_size (tuple): Kernel size for the convolution in (depth, height, width).\n",
    "        \"\"\"\n",
    "        super(Conv2Plus1D, self).__init__()\n",
    "\n",
    "        padding_spatial = (0, kernel_size[1] // 2, kernel_size[2] // 2)\n",
    "        padding_temporal = (kernel_size[0] // 2, 0, 0)\n",
    "\n",
    "        # Sequential container for spatial and temporal convolution\n",
    "        self.seq = nn.Sequential(\n",
    "            # Spatial decomposition\n",
    "            nn.Conv3d(in_channels=input_channels,\n",
    "                      out_channels=filters,\n",
    "                      kernel_size=(1, kernel_size[1], kernel_size[2]),\n",
    "                      padding=padding_spatial,\n",
    "                      device=device),\n",
    "            # Temporal decomposition\n",
    "            nn.Conv3d(in_channels=filters,\n",
    "                      out_channels=filters,\n",
    "                      kernel_size=(kernel_size[0], 1, 1),\n",
    "                      padding=padding_temporal,\n",
    "                      device=device)\n",
    "        )\n",
    "\n",
    "    def forward(self, x):\n",
    "        return self.seq(x)"
   ]
  },
  {
   "cell_type": "code",
   "execution_count": 8,
   "metadata": {
    "execution": {
     "iopub.execute_input": "2024-11-21T18:34:44.933784Z",
     "iopub.status.busy": "2024-11-21T18:34:44.933419Z",
     "iopub.status.idle": "2024-11-21T18:34:44.941224Z",
     "shell.execute_reply": "2024-11-21T18:34:44.940329Z",
     "shell.execute_reply.started": "2024-11-21T18:34:44.933755Z"
    },
    "trusted": true
   },
   "outputs": [],
   "source": [
    "class ResidualMain(nn.Module):\n",
    "    \"\"\"\n",
    "    Residual block of the model with convolution, layer normalization, and ReLU activation.\n",
    "    \"\"\"\n",
    "    def __init__(self, input_channels, filters, kernel_size, height, width, device):\n",
    "        super(ResidualMain, self).__init__()\n",
    "        self.conv1 = Conv2Plus1D(input_channels=input_channels, filters=filters, kernel_size=kernel_size, device=device)\n",
    "        self.norm = nn.LayerNorm(normalized_shape=(filters, ), eps=1e-3, device=device)\n",
    "        self.conv2 = Conv2Plus1D(input_channels=filters, filters=filters, kernel_size=kernel_size, device=device)\n",
    "        self.relu = nn.ReLU()\n",
    "\n",
    "    def forward(self, x):\n",
    "        # First convolution\n",
    "        x = self.conv1(x)\n",
    "        x = x.permute(0, 4, 2, 3, 1)\n",
    "        x = self.norm(x)\n",
    "        x = x.permute(0, 4, 2, 3, 1)\n",
    "\n",
    "        # Apply ReLU\n",
    "        x = self.relu(x)\n",
    "\n",
    "        # Second convolution\n",
    "        x = self.conv2(x)\n",
    "\n",
    "        x = x.permute(0, 4, 2, 3, 1)\n",
    "        x = self.norm(x)\n",
    "        x = x.permute(0, 4, 2, 3, 1)\n",
    "\n",
    "        return x"
   ]
  },
  {
   "cell_type": "code",
   "execution_count": 9,
   "metadata": {
    "execution": {
     "iopub.execute_input": "2024-11-21T18:34:47.453727Z",
     "iopub.status.busy": "2024-11-21T18:34:47.453021Z",
     "iopub.status.idle": "2024-11-21T18:34:47.459055Z",
     "shell.execute_reply": "2024-11-21T18:34:47.458131Z",
     "shell.execute_reply.started": "2024-11-21T18:34:47.453690Z"
    },
    "id": "sBM1QoaoFX9R",
    "trusted": true
   },
   "outputs": [],
   "source": [
    "class Project(nn.Module):\n",
    "    \"\"\"\n",
    "    Project certain dimensions of the tensor as the data is passed through different\n",
    "    sized filters and downsampled.\n",
    "    \"\"\"\n",
    "    def __init__(self, units, height, width, device):\n",
    "        super(Project, self).__init__()\n",
    "        self.seq = nn.Sequential(\n",
    "            nn.Linear(in_features=units[0], out_features=units[1], device=device),  # Linear projection\n",
    "            nn.LayerNorm(units[1], device=device)\n",
    "        )\n",
    "\n",
    "    def forward(self, x):\n",
    "        return self.seq(x)\n"
   ]
  },
  {
   "cell_type": "code",
   "execution_count": 10,
   "metadata": {
    "execution": {
     "iopub.execute_input": "2024-11-21T18:34:50.382117Z",
     "iopub.status.busy": "2024-11-21T18:34:50.381781Z",
     "iopub.status.idle": "2024-11-21T18:34:50.387935Z",
     "shell.execute_reply": "2024-11-21T18:34:50.387012Z",
     "shell.execute_reply.started": "2024-11-21T18:34:50.382087Z"
    },
    "id": "NxQgYFVSF5CJ",
    "trusted": true
   },
   "outputs": [],
   "source": [
    "def resize_video(video, height, width):\n",
    "    \"\"\"\n",
    "    Resize the tensor using einops and PyTorch's interpolation.\n",
    "\n",
    "    Args:\n",
    "      video (torch.Tensor): Tensor representation of the video, as a batch of frames.\n",
    "\n",
    "    Returns:\n",
    "      torch.Tensor: Resized video tensor with the new height and width.\n",
    "    \"\"\"\n",
    "    # Parse the shape and rearrange for resizing\n",
    "    old_shape = einops.parse_shape(video, 'b c h w t')\n",
    "    images = einops.rearrange(video, 'b c h w t -> b t h w c')\n",
    "    images = einops.rearrange(images, 'b t h w c -> (b t) h w c')\n",
    "\n",
    "    # Resize images using interpolate\n",
    "    images = F.interpolate(images.permute(0, 3, 1, 2), size=(height, width), mode='bilinear', align_corners=False)\n",
    "    images = images.permute(0, 2, 3, 1)  # Convert back to (batch, height, width, channels)\n",
    "\n",
    "    # Reshape back to video format\n",
    "    videos = einops.rearrange(images, '(b t) h w c -> b t h w c', t=old_shape['t'])\n",
    "    output = einops.rearrange(videos, 'b t h w c -> b c h w t')\n",
    "    return output\n"
   ]
  },
  {
   "cell_type": "code",
   "execution_count": 11,
   "metadata": {
    "execution": {
     "iopub.execute_input": "2024-11-21T18:34:52.867334Z",
     "iopub.status.busy": "2024-11-21T18:34:52.866413Z",
     "iopub.status.idle": "2024-11-21T18:34:52.880272Z",
     "shell.execute_reply": "2024-11-21T18:34:52.879308Z",
     "shell.execute_reply.started": "2024-11-21T18:34:52.867294Z"
    },
    "id": "CkBcFgq3Gfv_",
    "trusted": true
   },
   "outputs": [],
   "source": [
    "class VideoModel(nn.Module):\n",
    "    def __init__(self, height, width, device):\n",
    "        super(VideoModel, self).__init__()\n",
    "        self.height = height\n",
    "        self.width = width\n",
    "        kernel_size = (3,3,3)\n",
    "\n",
    "        self.conv = Conv2Plus1D(input_channels=3, filters=16, kernel_size=(3, 7, 7), device=device)\n",
    "        self.norm = nn.LayerNorm(normalized_shape=(16, ), eps=1e-3, device=device)\n",
    "        self.relu = nn.ReLU()\n",
    "\n",
    "        self.residual1 = ResidualMain(16, 16, kernel_size, self.height // 2, self.width // 2, device)\n",
    "        self.residual2 = ResidualMain(16, 32, kernel_size, self.height // 4, self.width // 4, device)\n",
    "        self.residual3 = ResidualMain(32, 64, kernel_size, self.height // 8, self.width // 8, device)\n",
    "        self.residual4 = ResidualMain(64, 128, kernel_size, self.height // 16, self.width // 16, device)\n",
    "\n",
    "        self.project1 = Project(units=(16, 32), height=self.height // 2, width=self.width // 2, device=device)\n",
    "        self.project2 = Project(units=(32, 64), height=self.height // 4, width=self.width // 4, device=device)\n",
    "        self.project3 = Project(units=(64, 128), height=self.height // 8, width=self.width // 8, device=device)\n",
    "\n",
    "        # Pooling and Output Layers\n",
    "        self.global_avg_pool = nn.AdaptiveAvgPool3d((1, 1, 1))\n",
    "        self.flatten = nn.Flatten()\n",
    "        self.fc = nn.Linear(128, num_classes)  # Adjust the input to `Linear` based on the final channel size\n",
    "\n",
    "    def forward(self, x):\n",
    "        x = self.conv(x)\n",
    "        x = x.permute(0, 4, 2, 3, 1)\n",
    "        x = self.norm(x)\n",
    "        x = x.permute(0, 4, 2, 3, 1)\n",
    "        x = self.relu(x)\n",
    "\n",
    "        x = resize_video(x, self.height // 2, self.width // 2)\n",
    "        out = self.residual1(x)\n",
    "        x = torch.add(x, out)\n",
    "\n",
    "        resized_x = resize_video(x, self.height // 4, self.width // 4)\n",
    "        projected_x = self.project1(resized_x.permute(0, 4, 2, 3, 1))\n",
    "        residual_x = self.residual2(resized_x)\n",
    "        x = torch.add(projected_x.permute(0, 4, 2, 3, 1), residual_x)\n",
    "        \n",
    "        resized_x = resize_video(x, self.height // 8, self.width // 8)\n",
    "        projected_x = self.project2(resized_x.permute(0, 4, 2, 3, 1))\n",
    "        residual_x = self.residual3(resized_x)\n",
    "        x = torch.add(projected_x.permute(0, 4, 2, 3, 1), residual_x)\n",
    "        \n",
    "        resized_x = resize_video(x, self.height // 16, self.width // 16)\n",
    "        projected_x = self.project3(resized_x.permute(0, 4, 2, 3, 1))\n",
    "        residual_x = self.residual4(resized_x)\n",
    "        x = torch.add(projected_x.permute(0, 4, 2, 3, 1), residual_x)\n",
    "\n",
    "        # Global average pooling and flatten\n",
    "        x = self.global_avg_pool(x)\n",
    "        x = self.flatten(x)\n",
    "        x = self.fc(x)\n",
    "\n",
    "        return x"
   ]
  },
  {
   "cell_type": "code",
   "execution_count": 12,
   "metadata": {
    "execution": {
     "iopub.execute_input": "2024-11-21T18:34:56.731043Z",
     "iopub.status.busy": "2024-11-21T18:34:56.730693Z",
     "iopub.status.idle": "2024-11-21T18:34:56.741027Z",
     "shell.execute_reply": "2024-11-21T18:34:56.740026Z",
     "shell.execute_reply.started": "2024-11-21T18:34:56.731013Z"
    },
    "id": "uyzE8FqDHYQ8",
    "trusted": true
   },
   "outputs": [],
   "source": [
    "from tqdm import tqdm\n",
    "def evaluate_model(model, val_loader, criterion):\n",
    "    model.eval()\n",
    "    val_loss = 0.0\n",
    "    correct = 0\n",
    "    total = 0\n",
    "    with torch.no_grad():\n",
    "        for frames, labels in tqdm(val_loader, total=len(val_loader), desc=\"Val\"):\n",
    "            frames, labels = frames.to(device), labels.to(device)\n",
    "            outputs = model(frames)\n",
    "            loss = criterion(outputs, labels)\n",
    "            val_loss += loss.item()\n",
    "\n",
    "            _, predicted = torch.max(outputs, 1)\n",
    "            total += labels.size(0)\n",
    "            correct += (predicted == labels).sum().item()\n",
    "    val_loss = val_loss / len(val_loader)\n",
    "    val_accuracy = correct / total\n",
    "    return val_loss, val_accuracy\n",
    "    \n",
    "\n",
    "# Training function\n",
    "def train_model(model, optimizer, criterion, train_loader, val_loader, epochs=20):\n",
    "    history = {'train_loss': [], 'train_accuracy': [], 'val_loss': [], 'val_accuracy': []}\n",
    "    best = 0\n",
    "    for epoch in range(epochs):\n",
    "        model.train()\n",
    "        running_loss = 0.0\n",
    "        correct = 0\n",
    "        total = 0\n",
    "        for frames, labels in tqdm(train_loader, total=len(train_loader), desc=\"Train\"):\n",
    "            frames, labels = frames.to(device), labels.to(device)\n",
    "\n",
    "            optimizer.zero_grad()\n",
    "            outputs = model(frames)\n",
    "            loss = criterion(outputs, labels)\n",
    "            loss.backward()\n",
    "            optimizer.step()\n",
    "\n",
    "            running_loss += loss.item()\n",
    "\n",
    "            _, predicted = torch.max(outputs, 1)\n",
    "            correct += (predicted == labels).sum().item()\n",
    "            total += labels.size(0)\n",
    "\n",
    "            \n",
    "        train_accuracy = correct / total\n",
    "        # Validation phase\n",
    "        val_loss, val_accuracy = evaluate_model(model, val_loader, criterion)\n",
    "\n",
    "        train_loss = running_loss / len(train_loader)\n",
    "\n",
    "        if val_accuracy > best:\n",
    "              torch.save(model.state_dict(), \"best_static_v1.pt\")\n",
    "              best = val_accuracy\n",
    "        history['train_loss'].append(train_loss)\n",
    "        history['train_accuracy'].append(train_accuracy)\n",
    "        history['val_loss'].append(val_loss)\n",
    "        history['val_accuracy'].append(val_accuracy)\n",
    "\n",
    "        print(f\"Epoch [{epoch+1}/{epochs}], Train Loss: {train_loss:.4f}, Train Acc: {train_accuracy:.4f}, Val Loss: {val_loss:.4f}, Val Acc: {val_accuracy:.4f}\")\n",
    "\n",
    "    return history"
   ]
  },
  {
   "cell_type": "code",
   "execution_count": 13,
   "metadata": {
    "execution": {
     "iopub.execute_input": "2024-11-21T18:36:38.722056Z",
     "iopub.status.busy": "2024-11-21T18:36:38.721721Z",
     "iopub.status.idle": "2024-11-21T18:36:38.735041Z",
     "shell.execute_reply": "2024-11-21T18:36:38.734210Z",
     "shell.execute_reply.started": "2024-11-21T18:36:38.722025Z"
    },
    "id": "AtTwb_cFIuLa",
    "trusted": true
   },
   "outputs": [],
   "source": [
    "import torch.optim as optim\n",
    "\n",
    "# Set up the device\n",
    "device = torch.device(\"cuda:2\" if torch.cuda.is_available() else \"cpu\")\n",
    "model = VideoModel(height=HEIGHT, width=WIDTH, device=device).to(device)\n",
    "\n",
    "# Define loss function and optimizer\n",
    "criterion = nn.CrossEntropyLoss()\n",
    "optimizer = optim.Adam(model.parameters(), lr=0.0001)"
   ]
  },
  {
   "cell_type": "code",
   "execution_count": 14,
   "metadata": {
    "colab": {
     "base_uri": "https://localhost:8080/"
    },
    "collapsed": true,
    "execution": {
     "iopub.execute_input": "2024-11-18T15:11:01.752065Z",
     "iopub.status.busy": "2024-11-18T15:11:01.751795Z",
     "iopub.status.idle": "2024-11-18T15:11:01.760286Z",
     "shell.execute_reply": "2024-11-18T15:11:01.759312Z",
     "shell.execute_reply.started": "2024-11-18T15:11:01.752035Z"
    },
    "id": "WdcZw-Uf_s2f",
    "jupyter": {
     "outputs_hidden": true
    },
    "outputId": "948b274a-1dd3-4941-848b-edf58bbfaa12",
    "trusted": true
   },
   "outputs": [
    {
     "name": "stderr",
     "output_type": "stream",
     "text": [
      "/tmp/ipykernel_2822582/3612263435.py:1: FutureWarning: You are using `torch.load` with `weights_only=False` (the current default value), which uses the default pickle module implicitly. It is possible to construct malicious pickle data which will execute arbitrary code during unpickling (See https://github.com/pytorch/pytorch/blob/main/SECURITY.md#untrusted-models for more details). In a future release, the default value for `weights_only` will be flipped to `True`. This limits the functions that could be executed during unpickling. Arbitrary objects will no longer be allowed to be loaded via this mode unless they are explicitly allowlisted by the user via `torch.serialization.add_safe_globals`. We recommend you start setting `weights_only=True` for any use case where you don't have full control of the loaded file. Please open an issue on GitHub for any issues related to this experimental feature.\n",
      "  model.load_state_dict(torch.load('best_static.pt'))\n"
     ]
    },
    {
     "data": {
      "text/plain": [
       "<All keys matched successfully>"
      ]
     },
     "execution_count": 14,
     "metadata": {},
     "output_type": "execute_result"
    }
   ],
   "source": [
    "model.load_state_dict(torch.load('best_static.pt'))"
   ]
  },
  {
   "cell_type": "code",
   "execution_count": 15,
   "metadata": {
    "execution": {
     "iopub.execute_input": "2024-11-18T15:11:01.761801Z",
     "iopub.status.busy": "2024-11-18T15:11:01.761466Z",
     "iopub.status.idle": "2024-11-18T15:11:13.602270Z",
     "shell.execute_reply": "2024-11-18T15:11:13.601123Z",
     "shell.execute_reply.started": "2024-11-18T15:11:01.761749Z"
    },
    "trusted": true
   },
   "outputs": [
    {
     "name": "stdout",
     "output_type": "stream",
     "text": [
      "Requirement already satisfied: torchinfo in /home/i_golov/.cache/pypoetry/virtualenvs/test-CNQ6TiHS-py3.12/lib/python3.12/site-packages (1.8.0)\n",
      "\n",
      "\u001b[1m[\u001b[0m\u001b[34;49mnotice\u001b[0m\u001b[1;39;49m]\u001b[0m\u001b[39;49m A new release of pip is available: \u001b[0m\u001b[31;49m24.2\u001b[0m\u001b[39;49m -> \u001b[0m\u001b[32;49m24.3.1\u001b[0m\n",
      "\u001b[1m[\u001b[0m\u001b[34;49mnotice\u001b[0m\u001b[1;39;49m]\u001b[0m\u001b[39;49m To update, run: \u001b[0m\u001b[32;49mpip install --upgrade pip\u001b[0m\n"
     ]
    }
   ],
   "source": [
    "!pip install torchinfo"
   ]
  },
  {
   "cell_type": "code",
   "execution_count": 16,
   "metadata": {
    "execution": {
     "iopub.execute_input": "2024-11-18T15:11:13.604156Z",
     "iopub.status.busy": "2024-11-18T15:11:13.603821Z",
     "iopub.status.idle": "2024-11-18T15:11:13.627804Z",
     "shell.execute_reply": "2024-11-18T15:11:13.626790Z",
     "shell.execute_reply.started": "2024-11-18T15:11:13.604119Z"
    },
    "trusted": true
   },
   "outputs": [
    {
     "data": {
      "text/plain": [
       "=================================================================\n",
       "Layer (type:depth-idx)                   Param #\n",
       "=================================================================\n",
       "VideoModel                               --\n",
       "├─Conv2Plus1D: 1-1                       --\n",
       "│    └─Sequential: 2-1                   --\n",
       "│    │    └─Conv3d: 3-1                  2,368\n",
       "│    │    └─Conv3d: 3-2                  784\n",
       "├─LayerNorm: 1-2                         32\n",
       "├─ReLU: 1-3                              --\n",
       "├─ResidualMain: 1-4                      --\n",
       "│    └─Conv2Plus1D: 2-2                  --\n",
       "│    │    └─Sequential: 3-3              3,104\n",
       "│    └─LayerNorm: 2-3                    32\n",
       "│    └─Conv2Plus1D: 2-4                  --\n",
       "│    │    └─Sequential: 3-4              3,104\n",
       "│    └─ReLU: 2-5                         --\n",
       "├─ResidualMain: 1-5                      --\n",
       "│    └─Conv2Plus1D: 2-6                  --\n",
       "│    │    └─Sequential: 3-5              7,744\n",
       "│    └─LayerNorm: 2-7                    64\n",
       "│    └─Conv2Plus1D: 2-8                  --\n",
       "│    │    └─Sequential: 3-6              12,352\n",
       "│    └─ReLU: 2-9                         --\n",
       "├─ResidualMain: 1-6                      --\n",
       "│    └─Conv2Plus1D: 2-10                 --\n",
       "│    │    └─Sequential: 3-7              30,848\n",
       "│    └─LayerNorm: 2-11                   128\n",
       "│    └─Conv2Plus1D: 2-12                 --\n",
       "│    │    └─Sequential: 3-8              49,280\n",
       "│    └─ReLU: 2-13                        --\n",
       "├─ResidualMain: 1-7                      --\n",
       "│    └─Conv2Plus1D: 2-14                 --\n",
       "│    │    └─Sequential: 3-9              123,136\n",
       "│    └─LayerNorm: 2-15                   256\n",
       "│    └─Conv2Plus1D: 2-16                 --\n",
       "│    │    └─Sequential: 3-10             196,864\n",
       "│    └─ReLU: 2-17                        --\n",
       "├─Project: 1-8                           --\n",
       "│    └─Sequential: 2-18                  --\n",
       "│    │    └─Linear: 3-11                 544\n",
       "│    │    └─LayerNorm: 3-12              64\n",
       "├─Project: 1-9                           --\n",
       "│    └─Sequential: 2-19                  --\n",
       "│    │    └─Linear: 3-13                 2,112\n",
       "│    │    └─LayerNorm: 3-14              128\n",
       "├─Project: 1-10                          --\n",
       "│    └─Sequential: 2-20                  --\n",
       "│    │    └─Linear: 3-15                 8,320\n",
       "│    │    └─LayerNorm: 3-16              256\n",
       "├─AdaptiveAvgPool3d: 1-11                --\n",
       "├─Flatten: 1-12                          --\n",
       "├─Linear: 1-13                           6,450\n",
       "=================================================================\n",
       "Total params: 447,970\n",
       "Trainable params: 447,970\n",
       "Non-trainable params: 0\n",
       "================================================================="
      ]
     },
     "execution_count": 16,
     "metadata": {},
     "output_type": "execute_result"
    }
   ],
   "source": [
    "from torchinfo import summary\n",
    "summary(model)"
   ]
  },
  {
   "cell_type": "code",
   "execution_count": 17,
   "metadata": {
    "colab": {
     "base_uri": "https://localhost:8080/"
    },
    "execution": {
     "iopub.execute_input": "2024-11-18T15:11:13.629376Z",
     "iopub.status.busy": "2024-11-18T15:11:13.628958Z",
     "iopub.status.idle": "2024-11-18T15:53:29.316762Z",
     "shell.execute_reply": "2024-11-18T15:53:29.315776Z",
     "shell.execute_reply.started": "2024-11-18T15:11:13.629323Z"
    },
    "id": "Db6EzRjrS5zd",
    "outputId": "6abf7db4-1339-46f8-b76b-3a1aa4d2c7b7",
    "trusted": true
   },
   "outputs": [
    {
     "name": "stderr",
     "output_type": "stream",
     "text": [
      "Train: 100%|██████████| 28/28 [07:14<00:00, 15.52s/it]\n",
      "Val: 100%|██████████| 6/6 [01:20<00:00, 13.33s/it]\n"
     ]
    },
    {
     "name": "stdout",
     "output_type": "stream",
     "text": [
      "Epoch [1/20], Train Loss: 2.5053, Train Acc: 0.3077, Val Loss: 2.5580, Val Acc: 0.3133\n"
     ]
    },
    {
     "name": "stderr",
     "output_type": "stream",
     "text": [
      "Train: 100%|██████████| 28/28 [06:15<00:00, 13.43s/it]\n",
      "Val: 100%|██████████| 6/6 [01:21<00:00, 13.61s/it]\n"
     ]
    },
    {
     "name": "stdout",
     "output_type": "stream",
     "text": [
      "Epoch [2/20], Train Loss: 2.4492, Train Acc: 0.3280, Val Loss: 2.4468, Val Acc: 0.3493\n"
     ]
    },
    {
     "name": "stderr",
     "output_type": "stream",
     "text": [
      "Train: 100%|██████████| 28/28 [07:19<00:00, 15.69s/it]\n",
      "Val: 100%|██████████| 6/6 [01:20<00:00, 13.44s/it]\n"
     ]
    },
    {
     "name": "stdout",
     "output_type": "stream",
     "text": [
      "Epoch [3/20], Train Loss: 2.4002, Train Acc: 0.3483, Val Loss: 2.4455, Val Acc: 0.3373\n"
     ]
    },
    {
     "name": "stderr",
     "output_type": "stream",
     "text": [
      "Train: 100%|██████████| 28/28 [07:56<00:00, 17.03s/it]\n",
      "Val: 100%|██████████| 6/6 [01:19<00:00, 13.21s/it]\n"
     ]
    },
    {
     "name": "stdout",
     "output_type": "stream",
     "text": [
      "Epoch [4/20], Train Loss: 2.3801, Train Acc: 0.3554, Val Loss: 2.3999, Val Acc: 0.3467\n"
     ]
    },
    {
     "name": "stderr",
     "output_type": "stream",
     "text": [
      "Train: 100%|██████████| 28/28 [07:11<00:00, 15.40s/it]\n",
      "Val: 100%|██████████| 6/6 [01:06<00:00, 11.08s/it]\n"
     ]
    },
    {
     "name": "stdout",
     "output_type": "stream",
     "text": [
      "Epoch [5/20], Train Loss: 2.3341, Train Acc: 0.3580, Val Loss: 2.3681, Val Acc: 0.3707\n"
     ]
    },
    {
     "name": "stderr",
     "output_type": "stream",
     "text": [
      "Train: 100%|██████████| 28/28 [08:10<00:00, 17.52s/it]\n",
      "Val: 100%|██████████| 6/6 [01:05<00:00, 10.94s/it]\n"
     ]
    },
    {
     "name": "stdout",
     "output_type": "stream",
     "text": [
      "Epoch [6/20], Train Loss: 2.3009, Train Acc: 0.3723, Val Loss: 2.3675, Val Acc: 0.3627\n"
     ]
    },
    {
     "name": "stderr",
     "output_type": "stream",
     "text": [
      "Train: 100%|██████████| 28/28 [07:27<00:00, 16.00s/it]\n",
      "Val: 100%|██████████| 6/6 [01:05<00:00, 10.91s/it]\n"
     ]
    },
    {
     "name": "stdout",
     "output_type": "stream",
     "text": [
      "Epoch [7/20], Train Loss: 2.2801, Train Acc: 0.3863, Val Loss: 2.3244, Val Acc: 0.3680\n"
     ]
    },
    {
     "name": "stderr",
     "output_type": "stream",
     "text": [
      "Train: 100%|██████████| 28/28 [08:05<00:00, 17.35s/it]\n",
      "Val: 100%|██████████| 6/6 [01:47<00:00, 17.90s/it]\n"
     ]
    },
    {
     "name": "stdout",
     "output_type": "stream",
     "text": [
      "Epoch [8/20], Train Loss: 2.2485, Train Acc: 0.3851, Val Loss: 2.2912, Val Acc: 0.4080\n"
     ]
    },
    {
     "name": "stderr",
     "output_type": "stream",
     "text": [
      "Train: 100%|██████████| 28/28 [07:52<00:00, 16.89s/it]\n",
      "Val: 100%|██████████| 6/6 [01:19<00:00, 13.22s/it]\n"
     ]
    },
    {
     "name": "stdout",
     "output_type": "stream",
     "text": [
      "Epoch [9/20], Train Loss: 2.2324, Train Acc: 0.3946, Val Loss: 2.3008, Val Acc: 0.3960\n"
     ]
    },
    {
     "name": "stderr",
     "output_type": "stream",
     "text": [
      "Train:  71%|███████▏  | 20/28 [05:29<02:11, 16.46s/it]\n"
     ]
    },
    {
     "ename": "KeyboardInterrupt",
     "evalue": "",
     "output_type": "error",
     "traceback": [
      "\u001b[0;31m---------------------------------------------------------------------------\u001b[0m",
      "\u001b[0;31mKeyboardInterrupt\u001b[0m                         Traceback (most recent call last)",
      "Cell \u001b[0;32mIn[17], line 3\u001b[0m\n\u001b[1;32m      1\u001b[0m \u001b[38;5;66;03m# Training\u001b[39;00m\n\u001b[0;32m----> 3\u001b[0m history \u001b[38;5;241m=\u001b[39m \u001b[43mtrain_model\u001b[49m\u001b[43m(\u001b[49m\u001b[43mmodel\u001b[49m\u001b[43m,\u001b[49m\u001b[43m \u001b[49m\u001b[43moptimizer\u001b[49m\u001b[43m,\u001b[49m\u001b[43m \u001b[49m\u001b[43mcriterion\u001b[49m\u001b[43m,\u001b[49m\u001b[43m \u001b[49m\u001b[43mtrain_loader\u001b[49m\u001b[43m,\u001b[49m\u001b[43m \u001b[49m\u001b[43mval_loader\u001b[49m\u001b[43m)\u001b[49m\n",
      "Cell \u001b[0;32mIn[12], line 31\u001b[0m, in \u001b[0;36mtrain_model\u001b[0;34m(model, optimizer, criterion, train_loader, val_loader, epochs)\u001b[0m\n\u001b[1;32m     29\u001b[0m correct \u001b[38;5;241m=\u001b[39m \u001b[38;5;241m0\u001b[39m\n\u001b[1;32m     30\u001b[0m total \u001b[38;5;241m=\u001b[39m \u001b[38;5;241m0\u001b[39m\n\u001b[0;32m---> 31\u001b[0m \u001b[43m\u001b[49m\u001b[38;5;28;43;01mfor\u001b[39;49;00m\u001b[43m \u001b[49m\u001b[43mframes\u001b[49m\u001b[43m,\u001b[49m\u001b[43m \u001b[49m\u001b[43mlabels\u001b[49m\u001b[43m \u001b[49m\u001b[38;5;129;43;01min\u001b[39;49;00m\u001b[43m \u001b[49m\u001b[43mtqdm\u001b[49m\u001b[43m(\u001b[49m\u001b[43mtrain_loader\u001b[49m\u001b[43m,\u001b[49m\u001b[43m \u001b[49m\u001b[43mtotal\u001b[49m\u001b[38;5;241;43m=\u001b[39;49m\u001b[38;5;28;43mlen\u001b[39;49m\u001b[43m(\u001b[49m\u001b[43mtrain_loader\u001b[49m\u001b[43m)\u001b[49m\u001b[43m,\u001b[49m\u001b[43m \u001b[49m\u001b[43mdesc\u001b[49m\u001b[38;5;241;43m=\u001b[39;49m\u001b[38;5;124;43m\"\u001b[39;49m\u001b[38;5;124;43mTrain\u001b[39;49m\u001b[38;5;124;43m\"\u001b[39;49m\u001b[43m)\u001b[49m\u001b[43m:\u001b[49m\n\u001b[1;32m     32\u001b[0m \u001b[43m    \u001b[49m\u001b[43mframes\u001b[49m\u001b[43m,\u001b[49m\u001b[43m \u001b[49m\u001b[43mlabels\u001b[49m\u001b[43m \u001b[49m\u001b[38;5;241;43m=\u001b[39;49m\u001b[43m \u001b[49m\u001b[43mframes\u001b[49m\u001b[38;5;241;43m.\u001b[39;49m\u001b[43mto\u001b[49m\u001b[43m(\u001b[49m\u001b[43mdevice\u001b[49m\u001b[43m)\u001b[49m\u001b[43m,\u001b[49m\u001b[43m \u001b[49m\u001b[43mlabels\u001b[49m\u001b[38;5;241;43m.\u001b[39;49m\u001b[43mto\u001b[49m\u001b[43m(\u001b[49m\u001b[43mdevice\u001b[49m\u001b[43m)\u001b[49m\n\u001b[1;32m     34\u001b[0m \u001b[43m    \u001b[49m\u001b[43moptimizer\u001b[49m\u001b[38;5;241;43m.\u001b[39;49m\u001b[43mzero_grad\u001b[49m\u001b[43m(\u001b[49m\u001b[43m)\u001b[49m\n",
      "File \u001b[0;32m~/.cache/pypoetry/virtualenvs/test-CNQ6TiHS-py3.12/lib/python3.12/site-packages/tqdm/std.py:1181\u001b[0m, in \u001b[0;36mtqdm.__iter__\u001b[0;34m(self)\u001b[0m\n\u001b[1;32m   1178\u001b[0m time \u001b[38;5;241m=\u001b[39m \u001b[38;5;28mself\u001b[39m\u001b[38;5;241m.\u001b[39m_time\n\u001b[1;32m   1180\u001b[0m \u001b[38;5;28;01mtry\u001b[39;00m:\n\u001b[0;32m-> 1181\u001b[0m \u001b[43m    \u001b[49m\u001b[38;5;28;43;01mfor\u001b[39;49;00m\u001b[43m \u001b[49m\u001b[43mobj\u001b[49m\u001b[43m \u001b[49m\u001b[38;5;129;43;01min\u001b[39;49;00m\u001b[43m \u001b[49m\u001b[43miterable\u001b[49m\u001b[43m:\u001b[49m\n\u001b[1;32m   1182\u001b[0m \u001b[43m        \u001b[49m\u001b[38;5;28;43;01myield\u001b[39;49;00m\u001b[43m \u001b[49m\u001b[43mobj\u001b[49m\n\u001b[1;32m   1183\u001b[0m \u001b[43m        \u001b[49m\u001b[38;5;66;43;03m# Update and possibly print the progressbar.\u001b[39;49;00m\n\u001b[1;32m   1184\u001b[0m \u001b[43m        \u001b[49m\u001b[38;5;66;43;03m# Note: does not call self.update(1) for speed optimisation.\u001b[39;49;00m\n",
      "File \u001b[0;32m~/.cache/pypoetry/virtualenvs/test-CNQ6TiHS-py3.12/lib/python3.12/site-packages/torch/utils/data/dataloader.py:701\u001b[0m, in \u001b[0;36m_BaseDataLoaderIter.__next__\u001b[0;34m(self)\u001b[0m\n\u001b[1;32m    698\u001b[0m \u001b[38;5;28;01mif\u001b[39;00m \u001b[38;5;28mself\u001b[39m\u001b[38;5;241m.\u001b[39m_sampler_iter \u001b[38;5;129;01mis\u001b[39;00m \u001b[38;5;28;01mNone\u001b[39;00m:\n\u001b[1;32m    699\u001b[0m     \u001b[38;5;66;03m# TODO(https://github.com/pytorch/pytorch/issues/76750)\u001b[39;00m\n\u001b[1;32m    700\u001b[0m     \u001b[38;5;28mself\u001b[39m\u001b[38;5;241m.\u001b[39m_reset()  \u001b[38;5;66;03m# type: ignore[call-arg]\u001b[39;00m\n\u001b[0;32m--> 701\u001b[0m data \u001b[38;5;241m=\u001b[39m \u001b[38;5;28;43mself\u001b[39;49m\u001b[38;5;241;43m.\u001b[39;49m\u001b[43m_next_data\u001b[49m\u001b[43m(\u001b[49m\u001b[43m)\u001b[49m\n\u001b[1;32m    702\u001b[0m \u001b[38;5;28mself\u001b[39m\u001b[38;5;241m.\u001b[39m_num_yielded \u001b[38;5;241m+\u001b[39m\u001b[38;5;241m=\u001b[39m \u001b[38;5;241m1\u001b[39m\n\u001b[1;32m    703\u001b[0m \u001b[38;5;28;01mif\u001b[39;00m (\n\u001b[1;32m    704\u001b[0m     \u001b[38;5;28mself\u001b[39m\u001b[38;5;241m.\u001b[39m_dataset_kind \u001b[38;5;241m==\u001b[39m _DatasetKind\u001b[38;5;241m.\u001b[39mIterable\n\u001b[1;32m    705\u001b[0m     \u001b[38;5;129;01mand\u001b[39;00m \u001b[38;5;28mself\u001b[39m\u001b[38;5;241m.\u001b[39m_IterableDataset_len_called \u001b[38;5;129;01mis\u001b[39;00m \u001b[38;5;129;01mnot\u001b[39;00m \u001b[38;5;28;01mNone\u001b[39;00m\n\u001b[1;32m    706\u001b[0m     \u001b[38;5;129;01mand\u001b[39;00m \u001b[38;5;28mself\u001b[39m\u001b[38;5;241m.\u001b[39m_num_yielded \u001b[38;5;241m>\u001b[39m \u001b[38;5;28mself\u001b[39m\u001b[38;5;241m.\u001b[39m_IterableDataset_len_called\n\u001b[1;32m    707\u001b[0m ):\n",
      "File \u001b[0;32m~/.cache/pypoetry/virtualenvs/test-CNQ6TiHS-py3.12/lib/python3.12/site-packages/torch/utils/data/dataloader.py:757\u001b[0m, in \u001b[0;36m_SingleProcessDataLoaderIter._next_data\u001b[0;34m(self)\u001b[0m\n\u001b[1;32m    755\u001b[0m \u001b[38;5;28;01mdef\u001b[39;00m \u001b[38;5;21m_next_data\u001b[39m(\u001b[38;5;28mself\u001b[39m):\n\u001b[1;32m    756\u001b[0m     index \u001b[38;5;241m=\u001b[39m \u001b[38;5;28mself\u001b[39m\u001b[38;5;241m.\u001b[39m_next_index()  \u001b[38;5;66;03m# may raise StopIteration\u001b[39;00m\n\u001b[0;32m--> 757\u001b[0m     data \u001b[38;5;241m=\u001b[39m \u001b[38;5;28;43mself\u001b[39;49m\u001b[38;5;241;43m.\u001b[39;49m\u001b[43m_dataset_fetcher\u001b[49m\u001b[38;5;241;43m.\u001b[39;49m\u001b[43mfetch\u001b[49m\u001b[43m(\u001b[49m\u001b[43mindex\u001b[49m\u001b[43m)\u001b[49m  \u001b[38;5;66;03m# may raise StopIteration\u001b[39;00m\n\u001b[1;32m    758\u001b[0m     \u001b[38;5;28;01mif\u001b[39;00m \u001b[38;5;28mself\u001b[39m\u001b[38;5;241m.\u001b[39m_pin_memory:\n\u001b[1;32m    759\u001b[0m         data \u001b[38;5;241m=\u001b[39m _utils\u001b[38;5;241m.\u001b[39mpin_memory\u001b[38;5;241m.\u001b[39mpin_memory(data, \u001b[38;5;28mself\u001b[39m\u001b[38;5;241m.\u001b[39m_pin_memory_device)\n",
      "File \u001b[0;32m~/.cache/pypoetry/virtualenvs/test-CNQ6TiHS-py3.12/lib/python3.12/site-packages/torch/utils/data/_utils/fetch.py:52\u001b[0m, in \u001b[0;36m_MapDatasetFetcher.fetch\u001b[0;34m(self, possibly_batched_index)\u001b[0m\n\u001b[1;32m     50\u001b[0m         data \u001b[38;5;241m=\u001b[39m \u001b[38;5;28mself\u001b[39m\u001b[38;5;241m.\u001b[39mdataset\u001b[38;5;241m.\u001b[39m__getitems__(possibly_batched_index)\n\u001b[1;32m     51\u001b[0m     \u001b[38;5;28;01melse\u001b[39;00m:\n\u001b[0;32m---> 52\u001b[0m         data \u001b[38;5;241m=\u001b[39m [\u001b[38;5;28;43mself\u001b[39;49m\u001b[38;5;241;43m.\u001b[39;49m\u001b[43mdataset\u001b[49m\u001b[43m[\u001b[49m\u001b[43midx\u001b[49m\u001b[43m]\u001b[49m \u001b[38;5;28;01mfor\u001b[39;00m idx \u001b[38;5;129;01min\u001b[39;00m possibly_batched_index]\n\u001b[1;32m     53\u001b[0m \u001b[38;5;28;01melse\u001b[39;00m:\n\u001b[1;32m     54\u001b[0m     data \u001b[38;5;241m=\u001b[39m \u001b[38;5;28mself\u001b[39m\u001b[38;5;241m.\u001b[39mdataset[possibly_batched_index]\n",
      "Cell \u001b[0;32mIn[3], line 222\u001b[0m, in \u001b[0;36mFrameGeneratorDataset.__getitem__\u001b[0;34m(self, idx)\u001b[0m\n\u001b[1;32m    219\u001b[0m class_name \u001b[38;5;241m=\u001b[39m get_class(fname)\n\u001b[1;32m    221\u001b[0m \u001b[38;5;66;03m# Extract frames from the video file\u001b[39;00m\n\u001b[0;32m--> 222\u001b[0m video_frames \u001b[38;5;241m=\u001b[39m \u001b[43mframes_from_video_file\u001b[49m\u001b[43m(\u001b[49m\u001b[43mpath\u001b[49m\u001b[43m,\u001b[49m\u001b[43m \u001b[49m\u001b[38;5;28;43mself\u001b[39;49m\u001b[38;5;241;43m.\u001b[39;49m\u001b[43mn_frames\u001b[49m\u001b[43m,\u001b[49m\u001b[43m \u001b[49m\u001b[43mframe_step\u001b[49m\u001b[38;5;241;43m=\u001b[39;49m\u001b[38;5;28;43mself\u001b[39;49m\u001b[38;5;241;43m.\u001b[39;49m\u001b[43mframe_step\u001b[49m\u001b[43m)\u001b[49m\n\u001b[1;32m    224\u001b[0m \u001b[38;5;66;03m# Get label by encoding the class name\u001b[39;00m\n\u001b[1;32m    225\u001b[0m label \u001b[38;5;241m=\u001b[39m \u001b[38;5;28mself\u001b[39m\u001b[38;5;241m.\u001b[39mclass_ids_for_name[class_name]\n",
      "Cell \u001b[0;32mIn[3], line 174\u001b[0m, in \u001b[0;36mframes_from_video_file\u001b[0;34m(video_path, n_frames, output_size, frame_step)\u001b[0m\n\u001b[1;32m    172\u001b[0m         result\u001b[38;5;241m.\u001b[39mappend(np\u001b[38;5;241m.\u001b[39mzeros_like(result[\u001b[38;5;241m0\u001b[39m]))\n\u001b[1;32m    173\u001b[0m src\u001b[38;5;241m.\u001b[39mrelease()\n\u001b[0;32m--> 174\u001b[0m result \u001b[38;5;241m=\u001b[39m \u001b[43mnp\u001b[49m\u001b[38;5;241;43m.\u001b[39;49m\u001b[43marray\u001b[49m\u001b[43m(\u001b[49m\u001b[43mresult\u001b[49m\u001b[43m)\u001b[49m  \u001b[38;5;66;03m# [..., [2, 1, 0]]\u001b[39;00m\n\u001b[1;32m    175\u001b[0m \u001b[38;5;28;01mreturn\u001b[39;00m np\u001b[38;5;241m.\u001b[39mtranspose(result, (\u001b[38;5;241m1\u001b[39m, \u001b[38;5;241m2\u001b[39m, \u001b[38;5;241m3\u001b[39m, \u001b[38;5;241m0\u001b[39m))\n",
      "\u001b[0;31mKeyboardInterrupt\u001b[0m: "
     ]
    }
   ],
   "source": [
    "# Training\n",
    "\n",
    "history = train_model(model, optimizer, criterion, train_loader, val_loader)"
   ]
  },
  {
   "cell_type": "code",
   "execution_count": 18,
   "metadata": {
    "execution": {
     "iopub.execute_input": "2024-11-18T15:53:29.318932Z",
     "iopub.status.busy": "2024-11-18T15:53:29.318272Z",
     "iopub.status.idle": "2024-11-18T15:53:30.013093Z",
     "shell.execute_reply": "2024-11-18T15:53:30.012270Z",
     "shell.execute_reply.started": "2024-11-18T15:53:29.318885Z"
    },
    "trusted": true
   },
   "outputs": [
    {
     "ename": "NameError",
     "evalue": "name 'history' is not defined",
     "output_type": "error",
     "traceback": [
      "\u001b[0;31m---------------------------------------------------------------------------\u001b[0m",
      "\u001b[0;31mNameError\u001b[0m                                 Traceback (most recent call last)",
      "Cell \u001b[0;32mIn[18], line 9\u001b[0m\n\u001b[1;32m      6\u001b[0m plt\u001b[38;5;241m.\u001b[39mfigure(figsize\u001b[38;5;241m=\u001b[39m(\u001b[38;5;241m12\u001b[39m, \u001b[38;5;241m5\u001b[39m))\n\u001b[1;32m      8\u001b[0m plt\u001b[38;5;241m.\u001b[39msubplot(\u001b[38;5;241m1\u001b[39m, \u001b[38;5;241m2\u001b[39m, \u001b[38;5;241m1\u001b[39m)\n\u001b[0;32m----> 9\u001b[0m plt\u001b[38;5;241m.\u001b[39mplot(\u001b[43mhistory\u001b[49m[\u001b[38;5;124m\"\u001b[39m\u001b[38;5;124mtrain_loss\u001b[39m\u001b[38;5;124m\"\u001b[39m], label\u001b[38;5;241m=\u001b[39m\u001b[38;5;124m'\u001b[39m\u001b[38;5;124mTrain Loss\u001b[39m\u001b[38;5;124m'\u001b[39m)\n\u001b[1;32m     10\u001b[0m plt\u001b[38;5;241m.\u001b[39mplot(history[\u001b[38;5;124m\"\u001b[39m\u001b[38;5;124mval_loss\u001b[39m\u001b[38;5;124m\"\u001b[39m], label\u001b[38;5;241m=\u001b[39m\u001b[38;5;124m'\u001b[39m\u001b[38;5;124mVal Loss\u001b[39m\u001b[38;5;124m'\u001b[39m)\n\u001b[1;32m     11\u001b[0m plt\u001b[38;5;241m.\u001b[39mtitle(\u001b[38;5;124m'\u001b[39m\u001b[38;5;124mTraining Loss\u001b[39m\u001b[38;5;124m'\u001b[39m)\n",
      "\u001b[0;31mNameError\u001b[0m: name 'history' is not defined"
     ]
    },
    {
     "data": {
      "image/png": "[encoded data removed]",
      "text/plain": [
       "<Figure size 1200x500 with 1 Axes>"
      ]
     },
     "metadata": {},
     "output_type": "display_data"
    }
   ],
   "source": [
    "import numpy as np\n",
    "import matplotlib.pyplot as plt\n",
    "\n",
    "\n",
    "# Plotting training losses and accuracy\n",
    "plt.figure(figsize=(12, 5))\n",
    "\n",
    "plt.subplot(1, 2, 1)\n",
    "plt.plot(history[\"train_loss\"], label='Train Loss')\n",
    "plt.plot(history[\"val_loss\"], label='Val Loss')\n",
    "plt.title('Training Loss')\n",
    "plt.xlabel('Epochs')\n",
    "plt.ylabel('Loss')\n",
    "plt.legend()\n",
    "\n",
    "plt.subplot(1, 2, 2)\n",
    "plt.plot(history[\"train_accuracy\"], label='Train Accuracy')\n",
    "plt.plot(history[\"val_accuracy\"], label='Val Accuracy')\n",
    "plt.title('Training Accuracy')\n",
    "plt.xlabel('Epochs')\n",
    "plt.ylabel('Accuracy')\n",
    "plt.legend()\n",
    "\n",
    "plt.tight_layout()\n",
    "plt.show()"
   ]
  },
  {
   "cell_type": "code",
   "execution_count": 19,
   "metadata": {
    "execution": {
     "iopub.execute_input": "2024-11-18T15:53:30.014832Z",
     "iopub.status.busy": "2024-11-18T15:53:30.014490Z",
     "iopub.status.idle": "2024-11-18T15:53:30.022413Z",
     "shell.execute_reply": "2024-11-18T15:53:30.021438Z",
     "shell.execute_reply.started": "2024-11-18T15:53:30.014782Z"
    },
    "trusted": true
   },
   "outputs": [],
   "source": [
    "# Generate actual and predicted labels\n",
    "def get_actual_predicted_labels(model, dataset_loader):\n",
    "    model.eval()\n",
    "    actual = []\n",
    "    predicted = []\n",
    "    all_probas = []\n",
    "    with torch.no_grad():\n",
    "        for frames, labels in dataset_loader:\n",
    "            frames = frames.to(device)\n",
    "            outputs = model(frames)\n",
    "            _, preds = torch.max(outputs, 1)\n",
    "            actual.append(labels.cpu())\n",
    "            predicted.append(preds.cpu())\n",
    "            \n",
    "            # Apply softmax to get probabilities\n",
    "            probas = F.softmax(outputs, dim=1)\n",
    "            all_probas.append(probas.cpu())\n",
    "\n",
    "    # Concatenate all batches into single arrays\n",
    "    all_probas = torch.cat(all_probas, dim=0).numpy()\n",
    "    actual = torch.cat(actual, dim=0).numpy()\n",
    "    predicted = torch.cat(predicted, dim=0).numpy()\n",
    "    return actual, predicted, all_probas"
   ]
  },
  {
   "cell_type": "code",
   "execution_count": 20,
   "metadata": {
    "execution": {
     "iopub.execute_input": "2024-11-18T15:53:30.023949Z",
     "iopub.status.busy": "2024-11-18T15:53:30.023623Z",
     "iopub.status.idle": "2024-11-18T15:53:36.682059Z",
     "shell.execute_reply": "2024-11-18T15:53:36.680822Z",
     "shell.execute_reply.started": "2024-11-18T15:53:30.023901Z"
    },
    "trusted": true
   },
   "outputs": [
    {
     "name": "stderr",
     "output_type": "stream",
     "text": [
      "Val: 100%|██████████| 6/6 [01:30<00:00, 15.15s/it]\n"
     ]
    },
    {
     "data": {
      "text/plain": [
       "(2.288317879041036, 0.376)"
      ]
     },
     "execution_count": 20,
     "metadata": {},
     "output_type": "execute_result"
    }
   ],
   "source": [
    "evaluate_model(model, test_loader, criterion)"
   ]
  },
  {
   "cell_type": "code",
   "execution_count": 21,
   "metadata": {
    "execution": {
     "iopub.execute_input": "2024-11-18T15:53:36.685785Z",
     "iopub.status.busy": "2024-11-18T15:53:36.685398Z",
     "iopub.status.idle": "2024-11-18T15:53:43.397823Z",
     "shell.execute_reply": "2024-11-18T15:53:43.396835Z",
     "shell.execute_reply.started": "2024-11-18T15:53:36.685748Z"
    },
    "trusted": true
   },
   "outputs": [],
   "source": [
    "y_true, y_pred, y_proba = get_actual_predicted_labels(model, test_loader)"
   ]
  },
  {
   "cell_type": "code",
   "execution_count": 23,
   "metadata": {
    "execution": {
     "iopub.execute_input": "2024-11-18T15:53:43.403272Z",
     "iopub.status.busy": "2024-11-18T15:53:43.402181Z",
     "iopub.status.idle": "2024-11-18T15:53:43.966158Z",
     "shell.execute_reply": "2024-11-18T15:53:43.965299Z",
     "shell.execute_reply.started": "2024-11-18T15:53:43.403214Z"
    },
    "trusted": true
   },
   "outputs": [
    {
     "data": {
      "image/png": "[encoded data removed]",
      "text/plain": [
       "<Figure size 1200x800 with 1 Axes>"
      ]
     },
     "metadata": {},
     "output_type": "display_data"
    },
    {
     "name": "stdout",
     "output_type": "stream",
     "text": [
      "F1 per class:\n",
      "Class 0 - 0.2\n",
      "Class 1 - 0.0\n",
      "Class 2 - 0.36363636363636365\n",
      "Class 3 - 0.6\n",
      "Class 4 - 0.9285714285714286\n",
      "Class 5 - 0.7142857142857143\n",
      "Class 6 - 0.2857142857142857\n",
      "Class 7 - 0.2608695652173913\n",
      "Class 8 - 0.42857142857142855\n",
      "Class 9 - 0.2153846153846154\n",
      "Class 10 - 0.3157894736842105\n",
      "Class 11 - 0.3333333333333333\n",
      "Class 12 - 0.6428571428571429\n",
      "Class 13 - 0.5\n",
      "Class 14 - 0.22857142857142856\n",
      "Class 15 - 0.23076923076923078\n",
      "Class 16 - 0.3\n",
      "Class 17 - 0.5294117647058824\n",
      "Class 18 - 0.391304347826087\n",
      "Class 19 - 0.3783783783783784\n",
      "Class 20 - 0.41379310344827586\n",
      "Class 21 - 0.08695652173913043\n",
      "Class 22 - 0.4444444444444444\n",
      "Class 23 - 0.2727272727272727\n",
      "Class 24 - 0.25\n",
      "Class 25 - 0.5957446808510638\n",
      "Class 26 - 0.875\n",
      "Class 27 - 0.25\n",
      "Class 28 - 0.3902439024390244\n",
      "Class 29 - 0.125\n",
      "Class 30 - 0.6153846153846154\n",
      "Class 31 - 0.10526315789473684\n",
      "Class 32 - 0.5555555555555556\n",
      "Class 33 - 0.19047619047619047\n",
      "Class 34 - 0.5625\n",
      "Class 35 - 0.21428571428571427\n",
      "Class 36 - 0.45161290322580644\n",
      "Class 37 - 0.20689655172413793\n",
      "Class 38 - 0.21052631578947367\n",
      "Class 39 - 0.5454545454545454\n",
      "Class 40 - 0.4444444444444444\n",
      "Class 41 - 0.2962962962962963\n",
      "Class 42 - 0.07407407407407407\n",
      "Class 43 - 0.3448275862068966\n",
      "Class 44 - 0.0\n",
      "Class 45 - 0.3076923076923077\n",
      "Class 46 - 0.32\n",
      "Class 47 - 0.0\n",
      "Class 48 - 0.43243243243243246\n",
      "Class 49 - 0.32\n",
      "\n",
      "Precision per class:\n",
      "Class 0 - 0.4\n",
      "Class 1 - 0.0\n",
      "Class 2 - 0.25\n",
      "Class 3 - 0.6\n",
      "Class 4 - 1.0\n",
      "Class 5 - 0.7692307692307693\n",
      "Class 6 - 0.5\n",
      "Class 7 - 0.375\n",
      "Class 8 - 0.46153846153846156\n",
      "Class 9 - 0.14\n",
      "Class 10 - 0.75\n",
      "Class 11 - 0.3333333333333333\n",
      "Class 12 - 0.6923076923076923\n",
      "Class 13 - 0.4\n",
      "Class 14 - 0.2\n",
      "Class 15 - 0.2727272727272727\n",
      "Class 16 - 0.6\n",
      "Class 17 - 0.47368421052631576\n",
      "Class 18 - 0.2903225806451613\n",
      "Class 19 - 0.3181818181818182\n",
      "Class 20 - 0.42857142857142855\n",
      "Class 21 - 0.125\n",
      "Class 22 - 0.38095238095238093\n",
      "Class 23 - 0.42857142857142855\n",
      "Class 24 - 0.2\n",
      "Class 25 - 0.4375\n",
      "Class 26 - 0.8235294117647058\n",
      "Class 27 - 0.3333333333333333\n",
      "Class 28 - 0.3076923076923077\n",
      "Class 29 - 1.0\n",
      "Class 30 - 0.7272727272727273\n",
      "Class 31 - 0.25\n",
      "Class 32 - 0.47619047619047616\n",
      "Class 33 - 0.3333333333333333\n",
      "Class 34 - 0.5294117647058824\n",
      "Class 35 - 0.23076923076923078\n",
      "Class 36 - 0.4375\n",
      "Class 37 - 0.21428571428571427\n",
      "Class 38 - 0.5\n",
      "Class 39 - 0.8571428571428571\n",
      "Class 40 - 0.3333333333333333\n",
      "Class 41 - 0.3333333333333333\n",
      "Class 42 - 0.08333333333333333\n",
      "Class 43 - 0.35714285714285715\n",
      "Class 44 - 0.0\n",
      "Class 45 - 0.36363636363636365\n",
      "Class 46 - 0.4\n",
      "Class 47 - 0.0\n",
      "Class 48 - 0.36363636363636365\n",
      "Class 49 - 0.22857142857142856\n",
      "\n",
      "Recall per class:\n",
      "Class 0 - 0.13333333333333333\n",
      "Class 1 - 0.0\n",
      "Class 2 - 0.6666666666666666\n",
      "Class 3 - 0.6\n",
      "Class 4 - 0.8666666666666667\n",
      "Class 5 - 0.6666666666666666\n",
      "Class 6 - 0.2\n",
      "Class 7 - 0.2\n",
      "Class 8 - 0.4\n",
      "Class 9 - 0.4666666666666667\n",
      "Class 10 - 0.2\n",
      "Class 11 - 0.3333333333333333\n",
      "Class 12 - 0.6\n",
      "Class 13 - 0.6666666666666666\n",
      "Class 14 - 0.26666666666666666\n",
      "Class 15 - 0.2\n",
      "Class 16 - 0.2\n",
      "Class 17 - 0.6\n",
      "Class 18 - 0.6\n",
      "Class 19 - 0.4666666666666667\n",
      "Class 20 - 0.4\n",
      "Class 21 - 0.06666666666666667\n",
      "Class 22 - 0.5333333333333333\n",
      "Class 23 - 0.2\n",
      "Class 24 - 0.3333333333333333\n",
      "Class 25 - 0.9333333333333333\n",
      "Class 26 - 0.9333333333333333\n",
      "Class 27 - 0.2\n",
      "Class 28 - 0.5333333333333333\n",
      "Class 29 - 0.06666666666666667\n",
      "Class 30 - 0.5333333333333333\n",
      "Class 31 - 0.06666666666666667\n",
      "Class 32 - 0.6666666666666666\n",
      "Class 33 - 0.13333333333333333\n",
      "Class 34 - 0.6\n",
      "Class 35 - 0.2\n",
      "Class 36 - 0.4666666666666667\n",
      "Class 37 - 0.2\n",
      "Class 38 - 0.13333333333333333\n",
      "Class 39 - 0.4\n",
      "Class 40 - 0.6666666666666666\n",
      "Class 41 - 0.26666666666666666\n",
      "Class 42 - 0.06666666666666667\n",
      "Class 43 - 0.3333333333333333\n",
      "Class 44 - 0.0\n",
      "Class 45 - 0.26666666666666666\n",
      "Class 46 - 0.26666666666666666\n",
      "Class 47 - 0.0\n",
      "Class 48 - 0.5333333333333333\n",
      "Class 49 - 0.5333333333333333\n",
      "\n",
      "ROC-AUC per class:\n",
      "Class 0 - 0.9668027210884353\n",
      "Class 1 - 0.8848072562358277\n",
      "Class 2 - 0.8872562358276644\n",
      "Class 3 - 0.95718820861678\n",
      "Class 4 - 0.9950113378684808\n",
      "Class 5 - 0.9934693877551021\n",
      "Class 6 - 0.9331519274376417\n",
      "Class 7 - 0.9558276643990931\n",
      "Class 8 - 0.9704308390022676\n",
      "Class 9 - 0.9000453514739228\n",
      "Class 10 - 0.9277097505668934\n",
      "Class 11 - 0.9501133786848073\n",
      "Class 12 - 0.9709750566893425\n",
      "Class 13 - 0.9493877551020409\n",
      "Class 14 - 0.9134693877551021\n",
      "Class 15 - 0.8408163265306122\n",
      "Class 16 - 0.9560997732426304\n",
      "Class 17 - 0.9625396825396826\n",
      "Class 18 - 0.9611791383219954\n",
      "Class 19 - 0.9574603174603175\n",
      "Class 20 - 0.8698412698412699\n",
      "Class 21 - 0.9356916099773243\n",
      "Class 22 - 0.9367800453514739\n",
      "Class 23 - 0.9065759637188209\n",
      "Class 24 - 0.9627210884353742\n",
      "Class 25 - 0.9895691609977325\n",
      "Class 26 - 0.9970975056689343\n",
      "Class 27 - 0.9443990929705215\n",
      "Class 28 - 0.9887528344671201\n",
      "Class 29 - 0.8768253968253968\n",
      "Class 30 - 0.963718820861678\n",
      "Class 31 - 0.8437188208616779\n",
      "Class 32 - 0.9574603174603175\n",
      "Class 33 - 0.9295238095238095\n",
      "Class 34 - 0.9611791383219954\n",
      "Class 35 - 0.900952380952381\n",
      "Class 36 - 0.9467573696145124\n",
      "Class 37 - 0.9531065759637188\n",
      "Class 38 - 0.9129251700680272\n",
      "Class 39 - 0.966984126984127\n",
      "Class 40 - 0.9433106575963719\n",
      "Class 41 - 0.8689342403628119\n",
      "Class 42 - 0.923718820861678\n",
      "Class 43 - 0.9695238095238095\n",
      "Class 44 - 0.7377777777777779\n",
      "Class 45 - 0.938140589569161\n",
      "Class 46 - 0.8787301587301587\n",
      "Class 47 - 0.9059410430839003\n",
      "Class 48 - 0.9215419501133788\n",
      "Class 49 - 0.9785034013605441\n",
      "Macro-average ROC-AUC: 0.93\n"
     ]
    }
   ],
   "source": [
    "from sklearn.metrics import precision_score, recall_score, roc_auc_score, roc_curve, auc, f1_score\n",
    "\n",
    "\n",
    "# Calculate precision and recall for each class\n",
    "precision = precision_score(y_true, y_pred, average=None, zero_division=0)\n",
    "recall = recall_score(y_true, y_pred, average=None, zero_division=0)\n",
    "f1 = f1_score(y_true, y_pred, average=None, zero_division=0)\n",
    "\n",
    "roc_auc_per_class = []\n",
    "\n",
    "# Plotting ROC curves for each class\n",
    "plt.figure(figsize=(12, 8))\n",
    "for i in range(num_classes):\n",
    "    y_true_binary = (y_true == i).astype(int)\n",
    "    roc_auc = roc_auc_score(y_true_binary, y_proba[:, i])\n",
    "    roc_auc_per_class.append(roc_auc)\n",
    "    fpr, tpr, _ = roc_curve(y_true_binary, y_proba[:, i])\n",
    "    plt.plot(fpr, tpr, label=f'Class {i} (AUC = {roc_auc_per_class[i]:.2f})')\n",
    "\n",
    "# Macro average ROC-AUC\n",
    "roc_auc_macro = np.mean(roc_auc_per_class)\n",
    "\n",
    "plt.title('ROC-AUC Curve')\n",
    "plt.xlabel('False Positive Rate (FPR)')\n",
    "plt.ylabel('True Positive Rate (TPR)')\n",
    "# plt.legend()\n",
    "plt.show()\n",
    "\n",
    "# Output metrics\n",
    "print(\"F1 per class:\")\n",
    "for i in range(num_classes):\n",
    "    print(\"Class\", i, \"-\", f1[i])\n",
    "print()\n",
    "\n",
    "print(\"Precision per class:\")\n",
    "for i in range(num_classes):\n",
    "    print(\"Class\", i, \"-\", precision[i])\n",
    "print()\n",
    "\n",
    "print(\"Recall per class:\")\n",
    "for i in range(num_classes):\n",
    "    print(\"Class\", i, \"-\", recall[i])\n",
    "print()\n",
    "\n",
    "print(\"ROC-AUC per class:\")\n",
    "for i in range(num_classes):\n",
    "    print(\"Class\", i, \"-\", roc_auc_per_class[i])\n",
    "    \n",
    "print(f\"Macro-average ROC-AUC: {roc_auc_macro:.2f}\")"
   ]
  }
 ],
 "metadata": {
  "colab": {
   "provenance": []
  },
  "kaggle": {
   "accelerator": "nvidiaTeslaT4",
   "dataSources": [
    {
     "datasetId": 6137134,
     "sourceId": 9974726,
     "sourceType": "datasetVersion"
    }
   ],
   "dockerImageVersionId": 30787,
   "isGpuEnabled": true,
   "isInternetEnabled": true,
   "language": "python",
   "sourceType": "notebook"
  },
  "kernelspec": {
   "display_name": "test-CNQ6TiHS-py3.12",
   "language": "python",
   "name": "python3"
  },
  "language_info": {
   "codemirror_mode": {
    "name": "ipython",
    "version": 3
   },
   "file_extension": ".py",
   "mimetype": "text/x-python",
   "name": "python",
   "nbconvert_exporter": "python",
   "pygments_lexer": "ipython3",
   "version": "3.12.7"
  }
 },
 "nbformat": 4,
 "nbformat_minor": 4
}
