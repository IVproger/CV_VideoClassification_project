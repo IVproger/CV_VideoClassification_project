{
 "cells": [
  {
   "cell_type": "code",
   "execution_count": 1,
   "metadata": {},
   "outputs": [],
   "source": [
    "from transformers import VideoMAEImageProcessor, VideoMAEForVideoClassification"
   ]
  },
  {
   "cell_type": "code",
   "execution_count": 2,
   "metadata": {},
   "outputs": [],
   "source": [
    "model_ckpt = \"MCG-NJU/videomae-base\""
   ]
  },
  {
   "cell_type": "code",
   "execution_count": 3,
   "metadata": {},
   "outputs": [
    {
     "name": "stdout",
     "output_type": "stream",
     "text": [
      "label2id: {'BaseballPitch': 0, 'Basketball': 1, 'BenchPress': 2, 'Biking': 3, 'Billiards': 4, 'BreastStroke': 5, 'CleanAndJerk': 6, 'Diving': 7, 'Drumming': 8, 'Fencing': 9, 'GolfSwing': 10, 'HighJump': 11, 'HorseRace': 12, 'HorseRiding': 13, 'HulaHoop': 14, 'JavelinThrow': 15, 'JugglingBalls': 16, 'JumpRope': 17, 'JumpingJack': 18, 'Kayaking': 19, 'Lunges': 20, 'MilitaryParade': 21, 'Mixing': 22, 'Nunchucks': 23, 'PizzaTossing': 24, 'PlayingGuitar': 25, 'PlayingPiano': 26, 'PlayingTabla': 27, 'PlayingViolin': 28, 'PoleVault': 29, 'PommelHorse': 30, 'PullUps': 31, 'Punch': 32, 'PushUps': 33, 'RockClimbingIndoor': 34, 'RopeClimbing': 35, 'Rowing': 36, 'SalsaSpin': 37, 'SkateBoarding': 38, 'Skiing': 39, 'Skijet': 40, 'SoccerJuggling': 41, 'Swing': 42, 'TaiChi': 43, 'TennisSwing': 44, 'ThrowDiscus': 45, 'TrampolineJumping': 46, 'VolleyballSpiking': 47, 'WalkingWithDog': 48, 'YoYo': 49}\n",
      "id2label: {0: 'BaseballPitch', 1: 'Basketball', 2: 'BenchPress', 3: 'Biking', 4: 'Billiards', 5: 'BreastStroke', 6: 'CleanAndJerk', 7: 'Diving', 8: 'Drumming', 9: 'Fencing', 10: 'GolfSwing', 11: 'HighJump', 12: 'HorseRace', 13: 'HorseRiding', 14: 'HulaHoop', 15: 'JavelinThrow', 16: 'JugglingBalls', 17: 'JumpRope', 18: 'JumpingJack', 19: 'Kayaking', 20: 'Lunges', 21: 'MilitaryParade', 22: 'Mixing', 23: 'Nunchucks', 24: 'PizzaTossing', 25: 'PlayingGuitar', 26: 'PlayingPiano', 27: 'PlayingTabla', 28: 'PlayingViolin', 29: 'PoleVault', 30: 'PommelHorse', 31: 'PullUps', 32: 'Punch', 33: 'PushUps', 34: 'RockClimbingIndoor', 35: 'RopeClimbing', 36: 'Rowing', 37: 'SalsaSpin', 38: 'SkateBoarding', 39: 'Skiing', 40: 'Skijet', 41: 'SoccerJuggling', 42: 'Swing', 43: 'TaiChi', 44: 'TennisSwing', 45: 'ThrowDiscus', 46: 'TrampolineJumping', 47: 'VolleyballSpiking', 48: 'WalkingWithDog', 49: 'YoYo'}\n"
     ]
    }
   ],
   "source": [
    "import os\n",
    "\n",
    "def create_label_mappings(data_dir):\n",
    "    # List all class folders\n",
    "    class_names = sorted(os.listdir(data_dir))\n",
    "    \n",
    "    # Create label2id and id2label mappings\n",
    "    label2id = {class_name: idx for idx, class_name in enumerate(class_names)}\n",
    "    id2label = {idx: class_name for class_name, idx in label2id.items()}\n",
    "    \n",
    "    return label2id, id2label\n",
    "\n",
    "data_dir = 'raw/UCF50'\n",
    "label2id, id2label = create_label_mappings(data_dir)\n",
    "\n",
    "print(\"label2id:\", label2id)\n",
    "print(\"id2label:\", id2label)"
   ]
  },
  {
   "cell_type": "code",
   "execution_count": 4,
   "metadata": {},
   "outputs": [
    {
     "name": "stderr",
     "output_type": "stream",
     "text": [
      "Some weights of VideoMAEForVideoClassification were not initialized from the model checkpoint at MCG-NJU/videomae-base and are newly initialized: ['classifier.bias', 'classifier.weight']\n",
      "You should probably TRAIN this model on a down-stream task to be able to use it for predictions and inference.\n"
     ]
    }
   ],
   "source": [
    "image_processor = VideoMAEImageProcessor.from_pretrained(model_ckpt)\n",
    "model = VideoMAEForVideoClassification.from_pretrained(\n",
    "    model_ckpt,\n",
    "    label2id=label2id,\n",
    "    id2label=id2label,\n",
    "    ignore_mismatched_sizes=True,\n",
    ")"
   ]
  },
  {
   "cell_type": "code",
   "execution_count": 5,
   "metadata": {},
   "outputs": [],
   "source": [
    "import sys\n",
    "import types\n",
    "from torchvision.transforms.functional import rgb_to_grayscale\n",
    "\n",
    "# Create a module for `torchvision.transforms.functional_tensor`\n",
    "functional_tensor = types.ModuleType(\"torchvision.transforms.functional_tensor\")\n",
    "functional_tensor.rgb_to_grayscale = rgb_to_grayscale\n",
    "\n",
    "# Add this module to sys.modules so other imports can access it\n",
    "sys.modules[\"torchvision.transforms.functional_tensor\"] = functional_tensor"
   ]
  },
  {
   "cell_type": "code",
   "execution_count": 6,
   "metadata": {},
   "outputs": [],
   "source": [
    "from pytorchvideo.transforms import (\n",
    "    ApplyTransformToKey,\n",
    "    Normalize,\n",
    "    RandomShortSideScale,\n",
    "    UniformTemporalSubsample,\n",
    ")\n",
    "\n",
    "from torchvision.transforms import (\n",
    "    Compose,\n",
    "    Lambda,\n",
    "    RandomCrop,\n",
    "    RandomHorizontalFlip,\n",
    "    Resize,\n",
    ")"
   ]
  },
  {
   "cell_type": "code",
   "execution_count": 7,
   "metadata": {},
   "outputs": [],
   "source": [
    "mean = image_processor.image_mean\n",
    "std = image_processor.image_std\n",
    "if \"shortest_edge\" in image_processor.size:\n",
    "    height = width = image_processor.size[\"shortest_edge\"]\n",
    "else:\n",
    "    height = image_processor.size[\"height\"]\n",
    "    width = image_processor.size[\"width\"]\n",
    "resize_to = (height, width)\n",
    "\n",
    "num_frames_to_sample = model.config.num_frames\n",
    "sample_rate = 4\n",
    "fps = 30\n",
    "clip_duration = num_frames_to_sample * sample_rate / fps\n",
    "\n",
    "train_transform = Compose(\n",
    "    [\n",
    "        ApplyTransformToKey(\n",
    "            key=\"video\",\n",
    "            transform=Compose(\n",
    "                [\n",
    "                    UniformTemporalSubsample(num_frames_to_sample),\n",
    "                    Lambda(lambda x: x / 255.0),\n",
    "                    Normalize(mean, std),\n",
    "                    RandomShortSideScale(min_size=256, max_size=320),\n",
    "                    RandomCrop(resize_to),\n",
    "                    RandomHorizontalFlip(p=0.5),\n",
    "                ]\n",
    "            ),\n",
    "        ),\n",
    "    ]\n",
    ")\n",
    "\n",
    "# Validation and evaluation datasets' transformations.\n",
    "val_transform = Compose(\n",
    "    [\n",
    "        ApplyTransformToKey(\n",
    "            key=\"video\",\n",
    "            transform=Compose(\n",
    "                [\n",
    "                    UniformTemporalSubsample(num_frames_to_sample),\n",
    "                    Lambda(lambda x: x / 255.0),\n",
    "                    Normalize(mean, std),\n",
    "                    Resize(resize_to),\n",
    "                ]\n",
    "            ),\n",
    "        ),\n",
    "    ]\n",
    ")"
   ]
  },
  {
   "cell_type": "code",
   "execution_count": 8,
   "metadata": {},
   "outputs": [],
   "source": [
    "import random\n",
    "from pytorchvideo.data import LabeledVideoDataset, make_clip_sampler\n",
    "from pathlib import Path\n",
    "\n",
    "random.seed(42)\n",
    "dataset_root_path = Path(\"raw/UCF50\")\n",
    "num_classes = 50"
   ]
  },
  {
   "cell_type": "code",
   "execution_count": 9,
   "metadata": {},
   "outputs": [],
   "source": [
    "import random\n",
    "\n",
    "random.seed(42)\n",
    "\n",
    "labels_paths = []\n",
    "for label_path in dataset_root_path.iterdir():\n",
    "    if label_path.is_dir():\n",
    "        labels_paths.append(label_path)\n",
    "labels_paths = sorted(labels_paths)\n",
    "assert len(labels_paths) == num_classes\n",
    "\n",
    "# lists of tuples of (path, label)\n",
    "train_paths: list[tuple[str, dict]] = []\n",
    "val_paths: list[tuple[str, dict]] = []\n",
    "test_paths: list[tuple[str, dict]] = []\n",
    "\n",
    "#! TODO: make a val split lower to test\n",
    "train_ratio = 0.7\n",
    "val_ratio = 0.2\n",
    "test_ration = 1 - train_ratio - val_ratio\n",
    "assert abs(train_ratio + val_ratio + test_ration - 1) < 1e-6\n",
    "\n",
    "for label_path in labels_paths:\n",
    "    assert label_path.is_dir()\n",
    "    label_name = label_path.name\n",
    "\n",
    "    # shuffle\n",
    "    label_file_paths = sorted([file_path for file_path in label_path.iterdir()])\n",
    "    random.shuffle(label_file_paths)\n",
    "\n",
    "    # split indexes\n",
    "    total = len(label_file_paths)\n",
    "    train_split_index = int(total * train_ratio)\n",
    "    val_split_index = train_split_index + int(total * val_ratio)\n",
    "\n",
    "    # extend train, val, test lists\n",
    "    train_paths.extend(\n",
    "        [\n",
    "            # dict appeared to be the argument to store all another meta info, not only str\n",
    "            (str(file_path), dict(label_id=label2id[label_name]))\n",
    "            for file_path in label_file_paths[:train_split_index]\n",
    "        ]\n",
    "    )\n",
    "    val_paths.extend(\n",
    "        [\n",
    "            (str(file_path), dict(label_id=label2id[label_name]))\n",
    "            for file_path in label_file_paths[train_split_index:val_split_index]\n",
    "        ]\n",
    "    )\n",
    "    test_paths.extend(\n",
    "        [\n",
    "            (str(file_path), dict(label_id=label2id[label_name]))\n",
    "            for file_path in label_file_paths[val_split_index:]\n",
    "        ]\n",
    "    )"
   ]
  },
  {
   "cell_type": "code",
   "execution_count": 10,
   "metadata": {},
   "outputs": [],
   "source": [
    "# Create the train and validation datasets\n",
    "train_dataset = LabeledVideoDataset(\n",
    "    labeled_video_paths=train_paths,\n",
    "    clip_sampler=make_clip_sampler(\"random\", clip_duration),\n",
    "    transform=train_transform,\n",
    "    decode_audio=False,\n",
    ")\n",
    "\n",
    "val_dataset = LabeledVideoDataset(\n",
    "    labeled_video_paths=val_paths,\n",
    "    clip_sampler=make_clip_sampler(\"uniform\", clip_duration),\n",
    "    transform=val_transform,\n",
    "    decode_audio=False,\n",
    ")"
   ]
  },
  {
   "cell_type": "code",
   "execution_count": 11,
   "metadata": {},
   "outputs": [],
   "source": [
    "sample_video = next(iter(train_dataset))"
   ]
  },
  {
   "cell_type": "code",
   "execution_count": 12,
   "metadata": {},
   "outputs": [],
   "source": [
    "batch_size = 64"
   ]
  },
  {
   "cell_type": "code",
   "execution_count": null,
   "metadata": {},
   "outputs": [],
   "source": [
    "from transformers import TrainingArguments, Trainer\n",
    "\n",
    "model_name = model_ckpt.split(\"/\")[-1]\n",
    "new_model_name = f\"{model_name}-finetuned-ucf50-subset\"\n",
    "num_epochs = 4\n",
    "\n",
    "args = TrainingArguments(\n",
    "    output_dir=new_model_name,\n",
    "    logging_steps=10,\n",
    "    remove_unused_columns=False,\n",
    "    eval_strategy=\"epoch\",  \n",
    "    save_strategy=\"epoch\",\n",
    "    learning_rate=5e-5,\n",
    "    per_device_train_batch_size=batch_size,\n",
    "    per_device_eval_batch_size=batch_size,\n",
    "    warmup_ratio=0.1,\n",
    "    load_best_model_at_end=True,\n",
    "    metric_for_best_model=\"accuracy\",\n",
    "    push_to_hub=False,\n",
    "    label_names=[\"labels\"],\n",
    "    max_steps=(train_dataset.num_videos // batch_size) * num_epochs,\n",
    ")"
   ]
  },
  {
   "cell_type": "code",
   "execution_count": 14,
   "metadata": {},
   "outputs": [],
   "source": [
    "import torch"
   ]
  },
  {
   "cell_type": "code",
   "execution_count": 15,
   "metadata": {},
   "outputs": [],
   "source": [
    "def collate_fn(examples):\n",
    "    \"\"\"The collation function to be used by `Trainer` to prepare data batches.\"\"\"\n",
    "    # permute to (num_frames, num_channels, height, width)\n",
    "    pixel_values = torch.stack(\n",
    "        [example[\"video\"].permute(1, 0, 2, 3) for example in examples]\n",
    "    )\n",
    "    labels = torch.tensor([example[\"label_id\"] for example in examples])\n",
    "    return {\"pixel_values\": pixel_values, \"labels\": labels}"
   ]
  },
  {
   "cell_type": "code",
   "execution_count": 16,
   "metadata": {},
   "outputs": [],
   "source": [
    "import evaluate\n",
    "import numpy as np"
   ]
  },
  {
   "cell_type": "code",
   "execution_count": 17,
   "metadata": {},
   "outputs": [],
   "source": [
    "metric = evaluate.load(\"accuracy\")\n",
    "def compute_metrics(eval_pred):\n",
    "    \"\"\"Computes accuracy on a batch of predictions.\"\"\"\n",
    "    predictions = np.argmax(eval_pred.predictions, axis=1)\n",
    "    return metric.compute(predictions=predictions, references=eval_pred.label_ids)"
   ]
  },
  {
   "cell_type": "code",
   "execution_count": 18,
   "metadata": {},
   "outputs": [
    {
     "name": "stderr",
     "output_type": "stream",
     "text": [
      "max_steps is given, it will override any value given in num_train_epochs\n"
     ]
    }
   ],
   "source": [
    "trainer = Trainer(\n",
    "    model,\n",
    "    args,\n",
    "    train_dataset=train_dataset,\n",
    "    eval_dataset=val_dataset,\n",
    "    processing_class=image_processor,\n",
    "    compute_metrics=compute_metrics,\n",
    "    data_collator=collate_fn,\n",
    ")"
   ]
  },
  {
   "cell_type": "code",
   "execution_count": 19,
   "metadata": {},
   "outputs": [
    {
     "name": "stderr",
     "output_type": "stream",
     "text": [
      "/home/i_golov/.cache/pypoetry/virtualenvs/test-CNQ6TiHS-py3.12/lib/python3.12/site-packages/torch/nn/parallel/_functions.py:68: UserWarning: Was asked to gather along dimension 0, but all input tensors were scalars; will instead unsqueeze and return a vector.\n",
      "  warnings.warn('Was asked to gather along dimension 0, but all '\n"
     ]
    },
    {
     "data": {
      "text/html": [
       "\n",
       "    <div>\n",
       "      \n",
       "      <progress value='288' max='288' style='width:300px; height:20px; vertical-align: middle;'></progress>\n",
       "      [288/288 1:31:34, Epoch 11/9223372036854775807]\n",
       "    </div>\n",
       "    <table border=\"1\" class=\"dataframe\">\n",
       "  <thead>\n",
       " <tr style=\"text-align: left;\">\n",
       "      <th>Epoch</th>\n",
       "      <th>Training Loss</th>\n",
       "      <th>Validation Loss</th>\n",
       "      <th>Accuracy</th>\n",
       "    </tr>\n",
       "  </thead>\n",
       "  <tbody>\n",
       "    <tr>\n",
       "      <td>0</td>\n",
       "      <td>3.908800</td>\n",
       "      <td>3.686096</td>\n",
       "      <td>0.107179</td>\n",
       "    </tr>\n",
       "    <tr>\n",
       "      <td>1</td>\n",
       "      <td>2.923500</td>\n",
       "      <td>2.687000</td>\n",
       "      <td>0.440513</td>\n",
       "    </tr>\n",
       "    <tr>\n",
       "      <td>2</td>\n",
       "      <td>2.169000</td>\n",
       "      <td>1.757062</td>\n",
       "      <td>0.683846</td>\n",
       "    </tr>\n",
       "    <tr>\n",
       "      <td>3</td>\n",
       "      <td>1.297300</td>\n",
       "      <td>1.195039</td>\n",
       "      <td>0.810256</td>\n",
       "    </tr>\n",
       "    <tr>\n",
       "      <td>4</td>\n",
       "      <td>0.957700</td>\n",
       "      <td>0.861004</td>\n",
       "      <td>0.856667</td>\n",
       "    </tr>\n",
       "    <tr>\n",
       "      <td>5</td>\n",
       "      <td>0.635100</td>\n",
       "      <td>0.676684</td>\n",
       "      <td>0.885128</td>\n",
       "    </tr>\n",
       "    <tr>\n",
       "      <td>6</td>\n",
       "      <td>0.523100</td>\n",
       "      <td>0.547581</td>\n",
       "      <td>0.915385</td>\n",
       "    </tr>\n",
       "    <tr>\n",
       "      <td>7</td>\n",
       "      <td>0.395400</td>\n",
       "      <td>0.458570</td>\n",
       "      <td>0.923590</td>\n",
       "    </tr>\n",
       "    <tr>\n",
       "      <td>8</td>\n",
       "      <td>0.315500</td>\n",
       "      <td>0.421659</td>\n",
       "      <td>0.932821</td>\n",
       "    </tr>\n",
       "    <tr>\n",
       "      <td>9</td>\n",
       "      <td>0.276600</td>\n",
       "      <td>0.385463</td>\n",
       "      <td>0.936667</td>\n",
       "    </tr>\n",
       "    <tr>\n",
       "      <td>10</td>\n",
       "      <td>0.238200</td>\n",
       "      <td>0.356174</td>\n",
       "      <td>0.943333</td>\n",
       "    </tr>\n",
       "    <tr>\n",
       "      <td>11</td>\n",
       "      <td>0.227000</td>\n",
       "      <td>0.352017</td>\n",
       "      <td>0.942308</td>\n",
       "    </tr>\n",
       "  </tbody>\n",
       "</table><p>"
      ],
      "text/plain": [
       "<IPython.core.display.HTML object>"
      ]
     },
     "metadata": {},
     "output_type": "display_data"
    },
    {
     "name": "stderr",
     "output_type": "stream",
     "text": [
      "/home/i_golov/.cache/pypoetry/virtualenvs/test-CNQ6TiHS-py3.12/lib/python3.12/site-packages/torch/nn/parallel/_functions.py:68: UserWarning: Was asked to gather along dimension 0, but all input tensors were scalars; will instead unsqueeze and return a vector.\n",
      "  warnings.warn('Was asked to gather along dimension 0, but all '\n",
      "/home/i_golov/.cache/pypoetry/virtualenvs/test-CNQ6TiHS-py3.12/lib/python3.12/site-packages/torch/nn/parallel/_functions.py:68: UserWarning: Was asked to gather along dimension 0, but all input tensors were scalars; will instead unsqueeze and return a vector.\n",
      "  warnings.warn('Was asked to gather along dimension 0, but all '\n",
      "/home/i_golov/.cache/pypoetry/virtualenvs/test-CNQ6TiHS-py3.12/lib/python3.12/site-packages/torch/nn/parallel/_functions.py:68: UserWarning: Was asked to gather along dimension 0, but all input tensors were scalars; will instead unsqueeze and return a vector.\n",
      "  warnings.warn('Was asked to gather along dimension 0, but all '\n",
      "/home/i_golov/.cache/pypoetry/virtualenvs/test-CNQ6TiHS-py3.12/lib/python3.12/site-packages/torch/nn/parallel/_functions.py:68: UserWarning: Was asked to gather along dimension 0, but all input tensors were scalars; will instead unsqueeze and return a vector.\n",
      "  warnings.warn('Was asked to gather along dimension 0, but all '\n",
      "/home/i_golov/.cache/pypoetry/virtualenvs/test-CNQ6TiHS-py3.12/lib/python3.12/site-packages/torch/nn/parallel/_functions.py:68: UserWarning: Was asked to gather along dimension 0, but all input tensors were scalars; will instead unsqueeze and return a vector.\n",
      "  warnings.warn('Was asked to gather along dimension 0, but all '\n",
      "/home/i_golov/.cache/pypoetry/virtualenvs/test-CNQ6TiHS-py3.12/lib/python3.12/site-packages/torch/nn/parallel/_functions.py:68: UserWarning: Was asked to gather along dimension 0, but all input tensors were scalars; will instead unsqueeze and return a vector.\n",
      "  warnings.warn('Was asked to gather along dimension 0, but all '\n",
      "/home/i_golov/.cache/pypoetry/virtualenvs/test-CNQ6TiHS-py3.12/lib/python3.12/site-packages/torch/nn/parallel/_functions.py:68: UserWarning: Was asked to gather along dimension 0, but all input tensors were scalars; will instead unsqueeze and return a vector.\n",
      "  warnings.warn('Was asked to gather along dimension 0, but all '\n",
      "/home/i_golov/.cache/pypoetry/virtualenvs/test-CNQ6TiHS-py3.12/lib/python3.12/site-packages/torch/nn/parallel/_functions.py:68: UserWarning: Was asked to gather along dimension 0, but all input tensors were scalars; will instead unsqueeze and return a vector.\n",
      "  warnings.warn('Was asked to gather along dimension 0, but all '\n",
      "/home/i_golov/.cache/pypoetry/virtualenvs/test-CNQ6TiHS-py3.12/lib/python3.12/site-packages/torch/nn/parallel/_functions.py:68: UserWarning: Was asked to gather along dimension 0, but all input tensors were scalars; will instead unsqueeze and return a vector.\n",
      "  warnings.warn('Was asked to gather along dimension 0, but all '\n",
      "/home/i_golov/.cache/pypoetry/virtualenvs/test-CNQ6TiHS-py3.12/lib/python3.12/site-packages/torch/nn/parallel/_functions.py:68: UserWarning: Was asked to gather along dimension 0, but all input tensors were scalars; will instead unsqueeze and return a vector.\n",
      "  warnings.warn('Was asked to gather along dimension 0, but all '\n",
      "/home/i_golov/.cache/pypoetry/virtualenvs/test-CNQ6TiHS-py3.12/lib/python3.12/site-packages/torch/nn/parallel/_functions.py:68: UserWarning: Was asked to gather along dimension 0, but all input tensors were scalars; will instead unsqueeze and return a vector.\n",
      "  warnings.warn('Was asked to gather along dimension 0, but all '\n",
      "/home/i_golov/.cache/pypoetry/virtualenvs/test-CNQ6TiHS-py3.12/lib/python3.12/site-packages/torch/nn/parallel/_functions.py:68: UserWarning: Was asked to gather along dimension 0, but all input tensors were scalars; will instead unsqueeze and return a vector.\n",
      "  warnings.warn('Was asked to gather along dimension 0, but all '\n"
     ]
    }
   ],
   "source": [
    "train_results = trainer.train()"
   ]
  },
  {
   "cell_type": "code",
   "execution_count": 20,
   "metadata": {},
   "outputs": [],
   "source": [
    "trainer.save_model(new_model_name)"
   ]
  },
  {
   "cell_type": "code",
   "execution_count": 21,
   "metadata": {},
   "outputs": [],
   "source": [
    "import matplotlib.pyplot as plt"
   ]
  },
  {
   "cell_type": "code",
   "execution_count": 22,
   "metadata": {},
   "outputs": [
    {
     "data": {
      "image/png": "[encoded data removed]",
      "text/plain": [
       "<Figure size 1200x600 with 1 Axes>"
      ]
     },
     "metadata": {},
     "output_type": "display_data"
    },
    {
     "data": {
      "image/png": "[encoded data removed]",
      "text/plain": [
       "<Figure size 1200x600 with 1 Axes>"
      ]
     },
     "metadata": {},
     "output_type": "display_data"
    }
   ],
   "source": [
    "# Extract training and evaluation metrics\n",
    "train_metrics = train_results.metrics\n",
    "eval_metrics = trainer.state.log_history\n",
    "\n",
    "# Extract loss and accuracy values\n",
    "train_loss = [x['loss'] for x in eval_metrics if 'loss' in x]\n",
    "eval_loss = [x['eval_loss'] for x in eval_metrics if 'eval_loss' in x]\n",
    "train_accuracy = [x['accuracy'] for x in eval_metrics if 'accuracy' in x]\n",
    "eval_accuracy = [x['eval_accuracy'] for x in eval_metrics if 'eval_accuracy' in x]\n",
    "\n",
    "# Plot training and validation loss\n",
    "plt.figure(figsize=(12, 6))\n",
    "plt.plot(train_loss, label='Training Loss')\n",
    "plt.plot(eval_loss, label='Validation Loss')\n",
    "plt.xlabel('Epoch')\n",
    "plt.ylabel('Loss')\n",
    "plt.legend()\n",
    "plt.title('Training and Validation Loss')\n",
    "plt.savefig(f\"{new_model_name}_loss.png\")  # Save the plot as an image\n",
    "plt.show()\n",
    "\n",
    "# Plot training and validation accuracy\n",
    "plt.figure(figsize=(12, 6))\n",
    "plt.plot(train_accuracy, label='Training Accuracy')\n",
    "plt.plot(eval_accuracy, label='Validation Accuracy')\n",
    "plt.xlabel('Epoch')\n",
    "plt.ylabel('Accuracy')\n",
    "plt.legend()\n",
    "plt.title('Training and Validation Accuracy')\n",
    "plt.savefig(f\"{new_model_name}_accuracy.png\")  # Save the plot as an image\n",
    "plt.show()"
   ]
  }
 ],
 "metadata": {
  "kernelspec": {
   "display_name": "test-CNQ6TiHS-py3.12",
   "language": "python",
   "name": "python3"
  },
  "language_info": {
   "codemirror_mode": {
    "name": "ipython",
    "version": 3
   },
   "file_extension": ".py",
   "mimetype": "text/x-python",
   "name": "python",
   "nbconvert_exporter": "python",
   "pygments_lexer": "ipython3",
   "version": "3.12.7"
  }
 },
 "nbformat": 4,
 "nbformat_minor": 2
}
