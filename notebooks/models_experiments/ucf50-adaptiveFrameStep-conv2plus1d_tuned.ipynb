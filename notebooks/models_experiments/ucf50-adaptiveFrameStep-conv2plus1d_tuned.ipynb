{
 "cells": [
  {
   "cell_type": "code",
   "execution_count": 1,
   "metadata": {
    "execution": {
     "iopub.execute_input": "2024-11-21T16:52:05.315033Z",
     "iopub.status.busy": "2024-11-21T16:52:05.314676Z",
     "iopub.status.idle": "2024-11-21T16:52:13.340901Z",
     "shell.execute_reply": "2024-11-21T16:52:13.340000Z",
     "shell.execute_reply.started": "2024-11-21T16:52:05.314999Z"
    },
    "trusted": true
   },
   "outputs": [
    {
     "name": "stdout",
     "output_type": "stream",
     "text": [
      "Requirement already satisfied: einops in /home/i_golov/.cache/pypoetry/virtualenvs/test-CNQ6TiHS-py3.12/lib/python3.12/site-packages (0.8.0)\n",
      "\n",
      "\u001b[1m[\u001b[0m\u001b[34;49mnotice\u001b[0m\u001b[1;39;49m]\u001b[0m\u001b[39;49m A new release of pip is available: \u001b[0m\u001b[31;49m24.2\u001b[0m\u001b[39;49m -> \u001b[0m\u001b[32;49m24.3.1\u001b[0m\n",
      "\u001b[1m[\u001b[0m\u001b[34;49mnotice\u001b[0m\u001b[1;39;49m]\u001b[0m\u001b[39;49m To update, run: \u001b[0m\u001b[32;49mpip install --upgrade pip\u001b[0m\n"
     ]
    }
   ],
   "source": [
    "!pip install einops"
   ]
  },
  {
   "cell_type": "code",
   "execution_count": 2,
   "metadata": {
    "execution": {
     "iopub.execute_input": "2024-11-21T17:25:44.715062Z",
     "iopub.status.busy": "2024-11-21T17:25:44.714379Z",
     "iopub.status.idle": "2024-11-21T17:25:44.719844Z",
     "shell.execute_reply": "2024-11-21T17:25:44.718923Z",
     "shell.execute_reply.started": "2024-11-21T17:25:44.715027Z"
    },
    "id": "EYmpx85h8d7W",
    "trusted": true
   },
   "outputs": [],
   "source": [
    "import tqdm\n",
    "import random\n",
    "import collections\n",
    "from pathlib import Path\n",
    "import shutil\n",
    "\n",
    "import cv2\n",
    "import einops\n",
    "import numpy as np\n",
    "import matplotlib.pyplot as plt\n",
    "import math\n",
    "\n",
    "import torch\n",
    "import torch.nn as nn\n",
    "import torch.nn.functional as F\n",
    "\n",
    "import torchvision.transforms as T\n",
    "from torch.utils.data import Dataset, DataLoader"
   ]
  },
  {
   "cell_type": "code",
   "execution_count": 3,
   "metadata": {
    "execution": {
     "iopub.execute_input": "2024-11-21T17:25:51.686936Z",
     "iopub.status.busy": "2024-11-21T17:25:51.686571Z",
     "iopub.status.idle": "2024-11-21T17:25:51.709191Z",
     "shell.execute_reply": "2024-11-21T17:25:51.708257Z",
     "shell.execute_reply.started": "2024-11-21T17:25:51.686905Z"
    },
    "id": "3UH3LRbS8HSc",
    "trusted": true
   },
   "outputs": [],
   "source": [
    "import collections\n",
    "import random\n",
    "from pathlib import Path\n",
    "import shutil\n",
    "import tqdm\n",
    "import numpy as np\n",
    "import torch\n",
    "from torch.utils.data import Dataset, DataLoader\n",
    "import torchvision.transforms as T\n",
    "import cv2\n",
    "import math\n",
    "\n",
    "def list_files_per_class(root_dir):\n",
    "    \"\"\"\n",
    "    List the files in each class of the dataset given the root directory.\n",
    "\n",
    "    Args:\n",
    "      root_dir: Root directory where files are unzipped.\n",
    "\n",
    "    Return:\n",
    "      files: List of files in each of the classes.\n",
    "    \"\"\"\n",
    "    files = []\n",
    "    root_path = Path(root_dir)\n",
    "    for file_path in root_path.rglob('*'):  # Recursively list all files\n",
    "        if file_path.is_file():\n",
    "            files.append(str(file_path.relative_to(root_path)))\n",
    "    return files\n",
    "\n",
    "def get_class(fname):\n",
    "    \"\"\"\n",
    "    Retrieve the name of the class given a filename.\n",
    "\n",
    "    Args:\n",
    "      fname: Name of the file in the UCF50 dataset.\n",
    "\n",
    "    Return:\n",
    "      Class that the file belongs to.\n",
    "    \"\"\"\n",
    "    return fname.split('_')[-3]\n",
    "\n",
    "def get_files_per_class(files):\n",
    "    \"\"\"\n",
    "    Retrieve the files that belong to each class.\n",
    "\n",
    "    Args:\n",
    "      files: List of files in the dataset.\n",
    "\n",
    "    Return:\n",
    "      Dictionary of class names (key) and files (values).\n",
    "    \"\"\"\n",
    "    files_for_class = collections.defaultdict(list)\n",
    "    for fname in files:\n",
    "        class_name = get_class(fname)\n",
    "        files_for_class[class_name].append(fname)\n",
    "    return files_for_class\n",
    "\n",
    "def split_class_lists(files_for_class, count):\n",
    "    \"\"\"\n",
    "    Returns the list of files belonging to a subset of data as well as the remainder of\n",
    "    files that need to be downloaded.\n",
    "\n",
    "    Args:\n",
    "      files_for_class: Files belonging to a particular class of data.\n",
    "      count: Number of files to download.\n",
    "\n",
    "    Return:\n",
    "      split_files: Files belonging to the subset of data.\n",
    "      remainder: Dictionary of the remainder of files that need to be downloaded.\n",
    "    \"\"\"\n",
    "    split_files = []\n",
    "    remainder = {}\n",
    "    for cls in files_for_class:\n",
    "        split_files.extend(files_for_class[cls][:count])\n",
    "        remainder[cls] = files_for_class[cls][count:]\n",
    "    return split_files, remainder\n",
    "\n",
    "def organize_dataset(root_dir, num_classes, splits):\n",
    "    \"\"\"\n",
    "    Organize a dataset into class-based directories and split them into various parts.\n",
    "\n",
    "    Args:\n",
    "      root_dir: Root directory where files are currently unzipped.\n",
    "      num_classes: Number of labels.\n",
    "      splits: Dictionary specifying the training, validation, test, etc. (key) division of data\n",
    "              (value is number of files per split).\n",
    "\n",
    "    Return:\n",
    "      split_files: Dictionary of split names and their corresponding file lists.\n",
    "    \"\"\"\n",
    "    files = list_files_per_class(root_dir)\n",
    "    files_for_class = get_files_per_class(files)\n",
    "    \n",
    "    classes = list(files_for_class.keys())[:num_classes]\n",
    "    \n",
    "    for cls in classes:\n",
    "        random.shuffle(files_for_class[cls])\n",
    "    \n",
    "    # Filter for the desired number of classes\n",
    "    files_for_class = {cls: files_for_class[cls] for cls in classes}\n",
    "    \n",
    "    split_files = {}\n",
    "    for split_name, split_count in splits.items():\n",
    "        split_files[split_name], files_for_class = split_class_lists(files_for_class, split_count)\n",
    "    \n",
    "    return split_files\n",
    "\n",
    "def format_frames(frame, output_size):\n",
    "    \"\"\"\n",
    "    Pad and resize an image from a video.\n",
    "\n",
    "    Args:\n",
    "      frame: Image that needs to be resized and padded.\n",
    "      output_size: Pixel size of the output frame image (height, width).\n",
    "\n",
    "    Returns:\n",
    "      Formatted frame with padding of specified output size.\n",
    "    \"\"\"\n",
    "    frame = frame.astype(float) / 255.0\n",
    "    frame = np.transpose(frame, (2, 0, 1))\n",
    "    transform = T.Compose([\n",
    "        T.Resize(output_size)\n",
    "    ])\n",
    "    frame = transform(torch.from_numpy(frame))\n",
    "    return frame\n",
    "\n",
    "def set_frame_step(video_length, n_frames):\n",
    "    frame_step = math.floor(video_length / n_frames)\n",
    "    return frame_step\n",
    "\n",
    "def frames_from_video_file(video_path, n_frames, output_size=(224, 224), frame_step=15):\n",
    "    \"\"\"\n",
    "    Creates frames from each video file present for each category.\n",
    "\n",
    "    Args:\n",
    "      video_path: File path to the video.\n",
    "      n_frames: Number of frames to be created per video file.\n",
    "      output_size: Pixel size of the output frame image.\n",
    "\n",
    "    Return:\n",
    "      An NumPy array of frames in the shape of (n_frames, height, width, channels).\n",
    "    \"\"\"\n",
    "    # Read each video frame by frame\n",
    "    result = []\n",
    "    src = cv2.VideoCapture(str(video_path))\n",
    "\n",
    "    video_length = src.get(cv2.CAP_PROP_FRAME_COUNT)\n",
    "\n",
    "    if frame_step < 0:\n",
    "        frame_step = set_frame_step(video_length, n_frames)\n",
    "\n",
    "    need_length = 1 + (n_frames - 1) * frame_step\n",
    "\n",
    "    if need_length > video_length:\n",
    "        start = 0\n",
    "    else:\n",
    "        max_start = video_length - need_length\n",
    "        start = random.randint(0, int(max_start) + 1)\n",
    "\n",
    "    src.set(cv2.CAP_PROP_POS_FRAMES, start)\n",
    "    # ret is a boolean indicating whether read was successful, frame is the image itself\n",
    "    ret, frame = src.read()\n",
    "    result.append(format_frames(frame, output_size))\n",
    "\n",
    "    for i in range(n_frames - 1):\n",
    "        for j in range(frame_step):\n",
    "            ret, frame = src.read()\n",
    "        if ret:\n",
    "            frame = format_frames(frame, output_size)\n",
    "            result.append(frame)\n",
    "        else:\n",
    "            result.append(np.zeros_like(result[0]))\n",
    "    src.release()\n",
    "    result = np.array(result)  # [..., [2, 1, 0]]\n",
    "    return np.transpose(result, (1, 2, 3, 0))\n",
    "\n",
    "class FrameGeneratorDataset(Dataset):\n",
    "    def __init__(self, file_paths, root_dir, n_frames, training=False, frame_step=15):\n",
    "        \"\"\"\n",
    "        Returns a set of frames with their associated label.\n",
    "\n",
    "        Args:\n",
    "          file_paths: List of file paths.\n",
    "          root_dir: Root directory where files are stored.\n",
    "          n_frames: Number of frames to extract from each video.\n",
    "          training: Boolean indicating if this is the training dataset (to enable shuffling).\n",
    "        \"\"\"\n",
    "        self.file_paths = file_paths\n",
    "        self.root_dir = Path(root_dir)\n",
    "        self.n_frames = n_frames\n",
    "        self.training = training\n",
    "        self.frame_step = frame_step\n",
    "\n",
    "        # Get all class names and assign a unique ID to each\n",
    "        self.class_names = sorted(set(get_class(p) for p in self.file_paths))\n",
    "        self.class_ids_for_name = {name: idx for idx, name in enumerate(self.class_names)}\n",
    "\n",
    "        # Shuffle the file paths if in training mode\n",
    "        if self.training:\n",
    "            random.shuffle(self.file_paths)\n",
    "\n",
    "    def __len__(self):\n",
    "        # Return the number of video files available\n",
    "        return len(self.file_paths)\n",
    "\n",
    "    def __getitem__(self, idx):\n",
    "        \"\"\"\n",
    "        Retrieve frames and the label for a given video index.\n",
    "\n",
    "        Args:\n",
    "          idx: Index of the video to retrieve.\n",
    "\n",
    "        Returns:\n",
    "          A tuple (frames, label) where frames are the extracted frames from the video,\n",
    "          and label is the encoded class label.\n",
    "        \"\"\"\n",
    "        fname = self.file_paths[idx]\n",
    "        path = self.root_dir / fname\n",
    "        class_name = get_class(fname)\n",
    "\n",
    "        # Extract frames from the video file\n",
    "        video_frames = frames_from_video_file(path, self.n_frames, frame_step=self.frame_step)\n",
    "\n",
    "        # Get label by encoding the class name\n",
    "        label = self.class_ids_for_name[class_name]\n",
    "\n",
    "        # Convert frames and label to tensors\n",
    "        video_frames = torch.tensor(video_frames, dtype=torch.float32)\n",
    "        label = torch.tensor(label, dtype=torch.int64)\n",
    "\n",
    "        return video_frames, label"
   ]
  },
  {
   "cell_type": "code",
   "execution_count": 4,
   "metadata": {
    "execution": {
     "iopub.execute_input": "2024-11-21T17:26:01.230294Z",
     "iopub.status.busy": "2024-11-21T17:26:01.229970Z",
     "iopub.status.idle": "2024-11-21T17:26:13.843126Z",
     "shell.execute_reply": "2024-11-21T17:26:13.842258Z",
     "shell.execute_reply.started": "2024-11-21T17:26:01.230264Z"
    },
    "id": "_UN2DthzA7-n",
    "outputId": "83905118-093e-435d-a872-6d4dcfebe416",
    "trusted": true
   },
   "outputs": [],
   "source": [
    "root_dir = 'raw/UCF50'\n",
    "num_classes = 50\n",
    "subset_paths = organize_dataset(root_dir,\n",
    "                        num_classes = num_classes,\n",
    "                        splits = {\"train\": 70, \"val\": 15, \"test\": 15})"
   ]
  },
  {
   "cell_type": "code",
   "execution_count": 5,
   "metadata": {
    "execution": {
     "iopub.execute_input": "2024-11-21T17:26:15.813356Z",
     "iopub.status.busy": "2024-11-21T17:26:15.812607Z",
     "iopub.status.idle": "2024-11-21T17:26:15.851240Z",
     "shell.execute_reply": "2024-11-21T17:26:15.850438Z",
     "shell.execute_reply.started": "2024-11-21T17:26:15.813313Z"
    },
    "id": "_VHmav_ICfGP",
    "trusted": true
   },
   "outputs": [],
   "source": [
    "# Parameters\n",
    "n_frames = 20\n",
    "batch_size = 128\n",
    "\n",
    "# Dataset paths\n",
    "train_dataset = FrameGeneratorDataset(subset_paths['train'], root_dir, n_frames, training=True, frame_step=-1)\n",
    "val_dataset = FrameGeneratorDataset(subset_paths['val'], root_dir, n_frames, training=False, frame_step=-1)\n",
    "test_dataset = FrameGeneratorDataset(subset_paths['test'], root_dir, n_frames, training=False, frame_step=-1)\n",
    "\n",
    "# DataLoaders with batching\n",
    "train_loader = DataLoader(train_dataset, batch_size=batch_size, shuffle=True)\n",
    "val_loader = DataLoader(val_dataset, batch_size=batch_size, shuffle=False)\n",
    "test_loader = DataLoader(test_dataset, batch_size=batch_size, shuffle=False)"
   ]
  },
  {
   "cell_type": "code",
   "execution_count": 6,
   "metadata": {
    "execution": {
     "iopub.execute_input": "2024-11-21T17:26:17.712437Z",
     "iopub.status.busy": "2024-11-21T17:26:17.712105Z",
     "iopub.status.idle": "2024-11-21T17:26:17.716590Z",
     "shell.execute_reply": "2024-11-21T17:26:17.715693Z",
     "shell.execute_reply.started": "2024-11-21T17:26:17.712408Z"
    },
    "id": "YVeE3AVtC11c",
    "trusted": true
   },
   "outputs": [],
   "source": [
    "# Define the dimensions of one frame in the set of frames created\n",
    "HEIGHT = 224\n",
    "WIDTH = 224"
   ]
  },
  {
   "cell_type": "code",
   "execution_count": 7,
   "metadata": {
    "execution": {
     "iopub.execute_input": "2024-11-21T17:26:24.270929Z",
     "iopub.status.busy": "2024-11-21T17:26:24.270196Z",
     "iopub.status.idle": "2024-11-21T17:26:24.277102Z",
     "shell.execute_reply": "2024-11-21T17:26:24.276212Z",
     "shell.execute_reply.started": "2024-11-21T17:26:24.270896Z"
    },
    "id": "BLao_9T5DG6u",
    "trusted": true
   },
   "outputs": [],
   "source": [
    "class Conv2Plus1D(nn.Module):\n",
    "    def __init__(self, input_channels, filters, kernel_size, device):\n",
    "        \"\"\"\n",
    "        A sequence of convolutional layers that first apply the convolution operation over the\n",
    "        spatial dimensions, and then the temporal dimension.\n",
    "\n",
    "        Args:\n",
    "          filters (int): Number of filters in each convolutional layer.\n",
    "          kernel_size (tuple): Kernel size for the convolution in (depth, height, width).\n",
    "        \"\"\"\n",
    "        super(Conv2Plus1D, self).__init__()\n",
    "\n",
    "        padding_spatial = (0, kernel_size[1] // 2, kernel_size[2] // 2)\n",
    "        padding_temporal = (kernel_size[0] // 2, 0, 0)\n",
    "\n",
    "        # Sequential container for spatial and temporal convolution\n",
    "        self.seq = nn.Sequential(\n",
    "            # Spatial decomposition\n",
    "            nn.Conv3d(in_channels=input_channels,\n",
    "                      out_channels=filters,\n",
    "                      kernel_size=(1, kernel_size[1], kernel_size[2]),\n",
    "                      padding=padding_spatial,\n",
    "                      device=device),\n",
    "            # Temporal decomposition\n",
    "            nn.Conv3d(in_channels=filters,\n",
    "                      out_channels=filters,\n",
    "                      kernel_size=(kernel_size[0], 1, 1),\n",
    "                      padding=padding_temporal,\n",
    "                      device=device)\n",
    "        )\n",
    "\n",
    "    def forward(self, x):\n",
    "        return self.seq(x)"
   ]
  },
  {
   "cell_type": "code",
   "execution_count": 8,
   "metadata": {
    "execution": {
     "iopub.execute_input": "2024-11-21T17:26:26.728764Z",
     "iopub.status.busy": "2024-11-21T17:26:26.727635Z",
     "iopub.status.idle": "2024-11-21T17:26:26.738677Z",
     "shell.execute_reply": "2024-11-21T17:26:26.737628Z",
     "shell.execute_reply.started": "2024-11-21T17:26:26.728728Z"
    },
    "trusted": true
   },
   "outputs": [],
   "source": [
    "class ResidualMain(nn.Module):\n",
    "    \"\"\"\n",
    "    Residual block of the model with convolution, layer normalization, and ReLU activation.\n",
    "    \"\"\"\n",
    "    def __init__(self, input_channels, filters, kernel_size, height, width, device):\n",
    "        super(ResidualMain, self).__init__()\n",
    "        self.conv1 = Conv2Plus1D(input_channels=input_channels, filters=filters, kernel_size=kernel_size, device=device)\n",
    "        self.norm = nn.LayerNorm(normalized_shape=(filters, ), eps=1e-3, device=device)\n",
    "        self.conv2 = Conv2Plus1D(input_channels=filters, filters=filters, kernel_size=kernel_size, device=device)\n",
    "        self.relu = nn.ReLU()\n",
    "\n",
    "    def forward(self, x):\n",
    "        # First convolution\n",
    "        x = self.conv1(x)\n",
    "        x = x.permute(0, 4, 2, 3, 1)\n",
    "        x = self.norm(x)\n",
    "        x = x.permute(0, 4, 2, 3, 1)\n",
    "\n",
    "        # Apply ReLU\n",
    "        x = self.relu(x)\n",
    "\n",
    "        # Second convolution\n",
    "        x = self.conv2(x)\n",
    "\n",
    "        x = x.permute(0, 4, 2, 3, 1)\n",
    "        x = self.norm(x)\n",
    "        x = x.permute(0, 4, 2, 3, 1)\n",
    "\n",
    "        return x"
   ]
  },
  {
   "cell_type": "code",
   "execution_count": 9,
   "metadata": {
    "execution": {
     "iopub.execute_input": "2024-11-21T17:26:28.928706Z",
     "iopub.status.busy": "2024-11-21T17:26:28.928345Z",
     "iopub.status.idle": "2024-11-21T17:26:28.934228Z",
     "shell.execute_reply": "2024-11-21T17:26:28.933219Z",
     "shell.execute_reply.started": "2024-11-21T17:26:28.928676Z"
    },
    "id": "sBM1QoaoFX9R",
    "trusted": true
   },
   "outputs": [],
   "source": [
    "class Project(nn.Module):\n",
    "    \"\"\"\n",
    "    Project certain dimensions of the tensor as the data is passed through different\n",
    "    sized filters and downsampled.\n",
    "    \"\"\"\n",
    "    def __init__(self, units, height, width, device):\n",
    "        super(Project, self).__init__()\n",
    "        self.seq = nn.Sequential(\n",
    "            nn.Linear(in_features=units[0], out_features=units[1], device=device),  # Linear projection\n",
    "            nn.LayerNorm(units[1], device=device)\n",
    "        )\n",
    "\n",
    "    def forward(self, x):\n",
    "        return self.seq(x)\n"
   ]
  },
  {
   "cell_type": "code",
   "execution_count": 10,
   "metadata": {
    "execution": {
     "iopub.execute_input": "2024-11-21T17:26:31.648640Z",
     "iopub.status.busy": "2024-11-21T17:26:31.648301Z",
     "iopub.status.idle": "2024-11-21T17:26:31.654450Z",
     "shell.execute_reply": "2024-11-21T17:26:31.653537Z",
     "shell.execute_reply.started": "2024-11-21T17:26:31.648612Z"
    },
    "id": "NxQgYFVSF5CJ",
    "trusted": true
   },
   "outputs": [],
   "source": [
    "def resize_video(video, height, width):\n",
    "    \"\"\"\n",
    "    Resize the tensor using einops and PyTorch's interpolation.\n",
    "\n",
    "    Args:\n",
    "      video (torch.Tensor): Tensor representation of the video, as a batch of frames.\n",
    "\n",
    "    Returns:\n",
    "      torch.Tensor: Resized video tensor with the new height and width.\n",
    "    \"\"\"\n",
    "    # Parse the shape and rearrange for resizing\n",
    "    old_shape = einops.parse_shape(video, 'b c h w t')\n",
    "    images = einops.rearrange(video, 'b c h w t -> b t h w c')\n",
    "    images = einops.rearrange(images, 'b t h w c -> (b t) h w c')\n",
    "\n",
    "    # Resize images using interpolate\n",
    "    images = F.interpolate(images.permute(0, 3, 1, 2), size=(height, width), mode='bilinear', align_corners=False)\n",
    "    images = images.permute(0, 2, 3, 1)  # Convert back to (batch, height, width, channels)\n",
    "\n",
    "    # Reshape back to video format\n",
    "    videos = einops.rearrange(images, '(b t) h w c -> b t h w c', t=old_shape['t'])\n",
    "    output = einops.rearrange(videos, 'b t h w c -> b c h w t')\n",
    "    return output\n"
   ]
  },
  {
   "cell_type": "code",
   "execution_count": 11,
   "metadata": {
    "execution": {
     "iopub.execute_input": "2024-11-21T17:26:33.792713Z",
     "iopub.status.busy": "2024-11-21T17:26:33.792217Z",
     "iopub.status.idle": "2024-11-21T17:26:33.811141Z",
     "shell.execute_reply": "2024-11-21T17:26:33.810250Z",
     "shell.execute_reply.started": "2024-11-21T17:26:33.792669Z"
    },
    "id": "CkBcFgq3Gfv_",
    "trusted": true
   },
   "outputs": [],
   "source": [
    "class VideoModel(nn.Module):\n",
    "    def __init__(self, height, width, device):\n",
    "        super(VideoModel, self).__init__()\n",
    "        self.height = height\n",
    "        self.width = width\n",
    "        kernel_size = (3,3,3)\n",
    "\n",
    "        self.conv = Conv2Plus1D(input_channels=3, filters=16, kernel_size=(3, 7, 7), device=device)\n",
    "        self.norm = nn.LayerNorm(normalized_shape=(16, ), eps=1e-3, device=device)\n",
    "        self.relu = nn.ReLU()\n",
    "\n",
    "        self.residual1 = ResidualMain(16, 16, kernel_size, self.height // 2, self.width // 2, device)\n",
    "        self.residual2 = ResidualMain(16, 32, kernel_size, self.height // 4, self.width // 4, device)\n",
    "        self.residual3 = ResidualMain(32, 64, kernel_size, self.height // 8, self.width // 8, device)\n",
    "        self.residual4 = ResidualMain(64, 128, kernel_size, self.height // 16, self.width // 16, device)\n",
    "\n",
    "        self.project1 = Project(units=(16, 32), height=self.height // 2, width=self.width // 2, device=device)\n",
    "        self.project2 = Project(units=(32, 64), height=self.height // 4, width=self.width // 4, device=device)\n",
    "        self.project3 = Project(units=(64, 128), height=self.height // 8, width=self.width // 8, device=device)\n",
    "\n",
    "        # Pooling and Output Layers\n",
    "        self.global_avg_pool = nn.AdaptiveAvgPool3d((1, 1, 1))\n",
    "        self.flatten = nn.Flatten()\n",
    "        self.fc = nn.Linear(128, num_classes)  # Adjust the input to `Linear` based on the final channel size\n",
    "\n",
    "    def forward(self, x):\n",
    "        x = self.conv(x)\n",
    "        x = x.permute(0, 4, 2, 3, 1)\n",
    "        x = self.norm(x)\n",
    "        x = x.permute(0, 4, 2, 3, 1)\n",
    "        x = self.relu(x)\n",
    "\n",
    "        x = resize_video(x, self.height // 2, self.width // 2)\n",
    "        out = self.residual1(x)\n",
    "        x = torch.add(x, out)\n",
    "\n",
    "        resized_x = resize_video(x, self.height // 4, self.width // 4)\n",
    "        projected_x = self.project1(resized_x.permute(0, 4, 2, 3, 1))\n",
    "        residual_x = self.residual2(resized_x)\n",
    "        x = torch.add(projected_x.permute(0, 4, 2, 3, 1), residual_x)\n",
    "        \n",
    "        resized_x = resize_video(x, self.height // 8, self.width // 8)\n",
    "        projected_x = self.project2(resized_x.permute(0, 4, 2, 3, 1))\n",
    "        residual_x = self.residual3(resized_x)\n",
    "        x = torch.add(projected_x.permute(0, 4, 2, 3, 1), residual_x)\n",
    "        \n",
    "        resized_x = resize_video(x, self.height // 16, self.width // 16)\n",
    "        projected_x = self.project3(resized_x.permute(0, 4, 2, 3, 1))\n",
    "        residual_x = self.residual4(resized_x)\n",
    "        x = torch.add(projected_x.permute(0, 4, 2, 3, 1), residual_x)\n",
    "\n",
    "        # Global average pooling and flatten\n",
    "        x = self.global_avg_pool(x)\n",
    "        x = self.flatten(x)\n",
    "        x = self.fc(x)\n",
    "\n",
    "        return x"
   ]
  },
  {
   "cell_type": "code",
   "execution_count": 12,
   "metadata": {
    "execution": {
     "iopub.execute_input": "2024-11-21T17:26:37.476296Z",
     "iopub.status.busy": "2024-11-21T17:26:37.475335Z",
     "iopub.status.idle": "2024-11-21T17:26:37.486412Z",
     "shell.execute_reply": "2024-11-21T17:26:37.485420Z",
     "shell.execute_reply.started": "2024-11-21T17:26:37.476257Z"
    },
    "id": "uyzE8FqDHYQ8",
    "trusted": true
   },
   "outputs": [],
   "source": [
    "from tqdm import tqdm\n",
    "def evaluate_model(model, val_loader, criterion):\n",
    "    model.eval()\n",
    "    val_loss = 0.0\n",
    "    correct = 0\n",
    "    total = 0\n",
    "    with torch.no_grad():\n",
    "        for frames, labels in tqdm(val_loader,desc=\"Val\",total=len(val_loader)):\n",
    "            frames, labels = frames.to(device), labels.to(device)\n",
    "            outputs = model(frames)\n",
    "            loss = criterion(outputs, labels)\n",
    "            val_loss += loss.item()\n",
    "\n",
    "            _, predicted = torch.max(outputs, 1)\n",
    "            total += labels.size(0)\n",
    "            correct += (predicted == labels).sum().item()\n",
    "    val_loss = val_loss / len(val_loader)\n",
    "    val_accuracy = correct / total\n",
    "    return val_loss, val_accuracy\n",
    "    \n",
    "\n",
    "# Training function\n",
    "def train_model(model, optimizer, criterion, train_loader, val_loader, epochs=20):\n",
    "    history = {'train_loss': [], 'train_accuracy': [], 'val_loss': [], 'val_accuracy': []}\n",
    "    best = 0\n",
    "    for epoch in range(epochs):\n",
    "        model.train()\n",
    "        running_loss = 0.0\n",
    "        correct = 0\n",
    "        total = 0\n",
    "        for frames, labels in tqdm(train_loader,desc=\"Train\",total=len(train_loader)):\n",
    "            frames, labels = frames.to(device), labels.to(device)\n",
    "\n",
    "            optimizer.zero_grad()\n",
    "            outputs = model(frames)\n",
    "            loss = criterion(outputs, labels)\n",
    "            loss.backward()\n",
    "            optimizer.step()\n",
    "\n",
    "            running_loss += loss.item()\n",
    "\n",
    "            _, predicted = torch.max(outputs, 1)\n",
    "            correct += (predicted == labels).sum().item()\n",
    "            total += labels.size(0)\n",
    "\n",
    "            \n",
    "        train_accuracy = correct / total\n",
    "        # Validation phase\n",
    "        val_loss, val_accuracy = evaluate_model(model, val_loader, criterion)\n",
    "\n",
    "        train_loss = running_loss / len(train_loader)\n",
    "\n",
    "        if val_accuracy > best:\n",
    "              torch.save(model.state_dict(), \"best_adaptive_v1.pt\")\n",
    "              best = val_accuracy\n",
    "        history['train_loss'].append(train_loss)\n",
    "        history['train_accuracy'].append(train_accuracy)\n",
    "        history['val_loss'].append(val_loss)\n",
    "        history['val_accuracy'].append(val_accuracy)\n",
    "\n",
    "        print(f\"Epoch [{epoch+1}/{epochs}], Train Loss: {train_loss:.4f}, Train Acc: {train_accuracy:.4f}, Val Loss: {val_loss:.4f}, Val Acc: {val_accuracy:.4f}\")\n",
    "\n",
    "    return history"
   ]
  },
  {
   "cell_type": "code",
   "execution_count": 13,
   "metadata": {
    "execution": {
     "iopub.execute_input": "2024-11-21T17:26:41.310954Z",
     "iopub.status.busy": "2024-11-21T17:26:41.310623Z",
     "iopub.status.idle": "2024-11-21T17:26:41.324402Z",
     "shell.execute_reply": "2024-11-21T17:26:41.323634Z",
     "shell.execute_reply.started": "2024-11-21T17:26:41.310926Z"
    },
    "id": "AtTwb_cFIuLa",
    "trusted": true
   },
   "outputs": [],
   "source": [
    "import torch.optim as optim\n",
    "\n",
    "# Set up the device\n",
    "device = torch.device(\"cuda:1\" if torch.cuda.is_available() else \"cpu\")\n",
    "model = VideoModel(height=HEIGHT, width=WIDTH, device=device).to(device)\n",
    "\n",
    "# Define loss function and optimizer\n",
    "criterion = nn.CrossEntropyLoss()\n",
    "optimizer = optim.Adam(model.parameters(), lr=0.0001)"
   ]
  },
  {
   "cell_type": "code",
   "execution_count": 14,
   "metadata": {},
   "outputs": [
    {
     "name": "stderr",
     "output_type": "stream",
     "text": [
      "/tmp/ipykernel_2991503/179640512.py:1: FutureWarning: You are using `torch.load` with `weights_only=False` (the current default value), which uses the default pickle module implicitly. It is possible to construct malicious pickle data which will execute arbitrary code during unpickling (See https://github.com/pytorch/pytorch/blob/main/SECURITY.md#untrusted-models for more details). In a future release, the default value for `weights_only` will be flipped to `True`. This limits the functions that could be executed during unpickling. Arbitrary objects will no longer be allowed to be loaded via this mode unless they are explicitly allowlisted by the user via `torch.serialization.add_safe_globals`. We recommend you start setting `weights_only=True` for any use case where you don't have full control of the loaded file. Please open an issue on GitHub for any issues related to this experimental feature.\n",
      "  model.load_state_dict(torch.load('best_adaptive.pt'))\n"
     ]
    },
    {
     "data": {
      "text/plain": [
       "<All keys matched successfully>"
      ]
     },
     "execution_count": 14,
     "metadata": {},
     "output_type": "execute_result"
    }
   ],
   "source": [
    "model.load_state_dict(torch.load('best_adaptive.pt'))"
   ]
  },
  {
   "cell_type": "code",
   "execution_count": 18,
   "metadata": {
    "trusted": true
   },
   "outputs": [
    {
     "name": "stderr",
     "output_type": "stream",
     "text": [
      "Train: 100%|██████████| 28/28 [07:12<00:00, 15.46s/it]\n",
      "Val: 100%|██████████| 6/6 [01:12<00:00, 12.00s/it]\n"
     ]
    },
    {
     "name": "stdout",
     "output_type": "stream",
     "text": [
      "Epoch [1/20], Train Loss: 2.6980, Train Acc: 0.2874, Val Loss: 2.6528, Val Acc: 0.3027\n"
     ]
    },
    {
     "name": "stderr",
     "output_type": "stream",
     "text": [
      "Train: 100%|██████████| 28/28 [06:50<00:00, 14.65s/it]\n",
      "Val: 100%|██████████| 6/6 [01:14<00:00, 12.37s/it]\n"
     ]
    },
    {
     "name": "stdout",
     "output_type": "stream",
     "text": [
      "Epoch [2/20], Train Loss: 2.6376, Train Acc: 0.2977, Val Loss: 2.5877, Val Acc: 0.3413\n"
     ]
    },
    {
     "name": "stderr",
     "output_type": "stream",
     "text": [
      "Train: 100%|██████████| 28/28 [06:57<00:00, 14.92s/it]\n",
      "Val: 100%|██████████| 6/6 [01:20<00:00, 13.42s/it]\n"
     ]
    },
    {
     "name": "stdout",
     "output_type": "stream",
     "text": [
      "Epoch [3/20], Train Loss: 2.6074, Train Acc: 0.3151, Val Loss: 2.6010, Val Acc: 0.3213\n"
     ]
    },
    {
     "name": "stderr",
     "output_type": "stream",
     "text": [
      "Train: 100%|██████████| 28/28 [07:12<00:00, 15.44s/it]\n",
      "Val: 100%|██████████| 6/6 [01:02<00:00, 10.37s/it]\n"
     ]
    },
    {
     "name": "stdout",
     "output_type": "stream",
     "text": [
      "Epoch [4/20], Train Loss: 2.5599, Train Acc: 0.3246, Val Loss: 2.5592, Val Acc: 0.3293\n"
     ]
    },
    {
     "name": "stderr",
     "output_type": "stream",
     "text": [
      "Train: 100%|██████████| 28/28 [07:25<00:00, 15.92s/it]\n",
      "Val: 100%|██████████| 6/6 [00:59<00:00,  9.84s/it]\n"
     ]
    },
    {
     "name": "stdout",
     "output_type": "stream",
     "text": [
      "Epoch [5/20], Train Loss: 2.5055, Train Acc: 0.3414, Val Loss: 2.5012, Val Acc: 0.3467\n"
     ]
    },
    {
     "name": "stderr",
     "output_type": "stream",
     "text": [
      "Train: 100%|██████████| 28/28 [07:24<00:00, 15.87s/it]\n",
      "Val: 100%|██████████| 6/6 [00:59<00:00,  9.94s/it]\n"
     ]
    },
    {
     "name": "stdout",
     "output_type": "stream",
     "text": [
      "Epoch [6/20], Train Loss: 2.4840, Train Acc: 0.3489, Val Loss: 2.5208, Val Acc: 0.3373\n"
     ]
    },
    {
     "name": "stderr",
     "output_type": "stream",
     "text": [
      "Train: 100%|██████████| 28/28 [06:58<00:00, 14.95s/it]\n",
      "Val: 100%|██████████| 6/6 [01:18<00:00, 13.04s/it]\n"
     ]
    },
    {
     "name": "stdout",
     "output_type": "stream",
     "text": [
      "Epoch [7/20], Train Loss: 2.4804, Train Acc: 0.3434, Val Loss: 2.4891, Val Acc: 0.3360\n"
     ]
    },
    {
     "name": "stderr",
     "output_type": "stream",
     "text": [
      "Train: 100%|██████████| 28/28 [07:03<00:00, 15.14s/it]\n",
      "Val: 100%|██████████| 6/6 [01:16<00:00, 12.72s/it]\n"
     ]
    },
    {
     "name": "stdout",
     "output_type": "stream",
     "text": [
      "Epoch [8/20], Train Loss: 2.4252, Train Acc: 0.3694, Val Loss: 2.4553, Val Acc: 0.3827\n"
     ]
    },
    {
     "name": "stderr",
     "output_type": "stream",
     "text": [
      "Train: 100%|██████████| 28/28 [07:01<00:00, 15.06s/it]\n",
      "Val: 100%|██████████| 6/6 [00:51<00:00,  8.65s/it]\n"
     ]
    },
    {
     "name": "stdout",
     "output_type": "stream",
     "text": [
      "Epoch [9/20], Train Loss: 2.3996, Train Acc: 0.3694, Val Loss: 2.4045, Val Acc: 0.3907\n"
     ]
    },
    {
     "name": "stderr",
     "output_type": "stream",
     "text": [
      "Train:  43%|████▎     | 12/28 [03:06<04:08, 15.55s/it]\n"
     ]
    },
    {
     "ename": "KeyboardInterrupt",
     "evalue": "",
     "output_type": "error",
     "traceback": [
      "\u001b[0;31m---------------------------------------------------------------------------\u001b[0m",
      "\u001b[0;31mKeyboardInterrupt\u001b[0m                         Traceback (most recent call last)",
      "Cell \u001b[0;32mIn[18], line 3\u001b[0m\n\u001b[1;32m      1\u001b[0m \u001b[38;5;66;03m# Training\u001b[39;00m\n\u001b[0;32m----> 3\u001b[0m history \u001b[38;5;241m=\u001b[39m \u001b[43mtrain_model\u001b[49m\u001b[43m(\u001b[49m\u001b[43mmodel\u001b[49m\u001b[43m,\u001b[49m\u001b[43m \u001b[49m\u001b[43moptimizer\u001b[49m\u001b[43m,\u001b[49m\u001b[43m \u001b[49m\u001b[43mcriterion\u001b[49m\u001b[43m,\u001b[49m\u001b[43m \u001b[49m\u001b[43mtrain_loader\u001b[49m\u001b[43m,\u001b[49m\u001b[43m \u001b[49m\u001b[43mval_loader\u001b[49m\u001b[43m)\u001b[49m\n",
      "Cell \u001b[0;32mIn[12], line 31\u001b[0m, in \u001b[0;36mtrain_model\u001b[0;34m(model, optimizer, criterion, train_loader, val_loader, epochs)\u001b[0m\n\u001b[1;32m     29\u001b[0m correct \u001b[38;5;241m=\u001b[39m \u001b[38;5;241m0\u001b[39m\n\u001b[1;32m     30\u001b[0m total \u001b[38;5;241m=\u001b[39m \u001b[38;5;241m0\u001b[39m\n\u001b[0;32m---> 31\u001b[0m \u001b[43m\u001b[49m\u001b[38;5;28;43;01mfor\u001b[39;49;00m\u001b[43m \u001b[49m\u001b[43mframes\u001b[49m\u001b[43m,\u001b[49m\u001b[43m \u001b[49m\u001b[43mlabels\u001b[49m\u001b[43m \u001b[49m\u001b[38;5;129;43;01min\u001b[39;49;00m\u001b[43m \u001b[49m\u001b[43mtqdm\u001b[49m\u001b[43m(\u001b[49m\u001b[43mtrain_loader\u001b[49m\u001b[43m,\u001b[49m\u001b[43mdesc\u001b[49m\u001b[38;5;241;43m=\u001b[39;49m\u001b[38;5;124;43m\"\u001b[39;49m\u001b[38;5;124;43mTrain\u001b[39;49m\u001b[38;5;124;43m\"\u001b[39;49m\u001b[43m,\u001b[49m\u001b[43mtotal\u001b[49m\u001b[38;5;241;43m=\u001b[39;49m\u001b[38;5;28;43mlen\u001b[39;49m\u001b[43m(\u001b[49m\u001b[43mtrain_loader\u001b[49m\u001b[43m)\u001b[49m\u001b[43m)\u001b[49m\u001b[43m:\u001b[49m\n\u001b[1;32m     32\u001b[0m \u001b[43m    \u001b[49m\u001b[43mframes\u001b[49m\u001b[43m,\u001b[49m\u001b[43m \u001b[49m\u001b[43mlabels\u001b[49m\u001b[43m \u001b[49m\u001b[38;5;241;43m=\u001b[39;49m\u001b[43m \u001b[49m\u001b[43mframes\u001b[49m\u001b[38;5;241;43m.\u001b[39;49m\u001b[43mto\u001b[49m\u001b[43m(\u001b[49m\u001b[43mdevice\u001b[49m\u001b[43m)\u001b[49m\u001b[43m,\u001b[49m\u001b[43m \u001b[49m\u001b[43mlabels\u001b[49m\u001b[38;5;241;43m.\u001b[39;49m\u001b[43mto\u001b[49m\u001b[43m(\u001b[49m\u001b[43mdevice\u001b[49m\u001b[43m)\u001b[49m\n\u001b[1;32m     34\u001b[0m \u001b[43m    \u001b[49m\u001b[43moptimizer\u001b[49m\u001b[38;5;241;43m.\u001b[39;49m\u001b[43mzero_grad\u001b[49m\u001b[43m(\u001b[49m\u001b[43m)\u001b[49m\n",
      "File \u001b[0;32m~/.cache/pypoetry/virtualenvs/test-CNQ6TiHS-py3.12/lib/python3.12/site-packages/tqdm/std.py:1181\u001b[0m, in \u001b[0;36mtqdm.__iter__\u001b[0;34m(self)\u001b[0m\n\u001b[1;32m   1178\u001b[0m time \u001b[38;5;241m=\u001b[39m \u001b[38;5;28mself\u001b[39m\u001b[38;5;241m.\u001b[39m_time\n\u001b[1;32m   1180\u001b[0m \u001b[38;5;28;01mtry\u001b[39;00m:\n\u001b[0;32m-> 1181\u001b[0m \u001b[43m    \u001b[49m\u001b[38;5;28;43;01mfor\u001b[39;49;00m\u001b[43m \u001b[49m\u001b[43mobj\u001b[49m\u001b[43m \u001b[49m\u001b[38;5;129;43;01min\u001b[39;49;00m\u001b[43m \u001b[49m\u001b[43miterable\u001b[49m\u001b[43m:\u001b[49m\n\u001b[1;32m   1182\u001b[0m \u001b[43m        \u001b[49m\u001b[38;5;28;43;01myield\u001b[39;49;00m\u001b[43m \u001b[49m\u001b[43mobj\u001b[49m\n\u001b[1;32m   1183\u001b[0m \u001b[43m        \u001b[49m\u001b[38;5;66;43;03m# Update and possibly print the progressbar.\u001b[39;49;00m\n\u001b[1;32m   1184\u001b[0m \u001b[43m        \u001b[49m\u001b[38;5;66;43;03m# Note: does not call self.update(1) for speed optimisation.\u001b[39;49;00m\n",
      "File \u001b[0;32m~/.cache/pypoetry/virtualenvs/test-CNQ6TiHS-py3.12/lib/python3.12/site-packages/torch/utils/data/dataloader.py:701\u001b[0m, in \u001b[0;36m_BaseDataLoaderIter.__next__\u001b[0;34m(self)\u001b[0m\n\u001b[1;32m    698\u001b[0m \u001b[38;5;28;01mif\u001b[39;00m \u001b[38;5;28mself\u001b[39m\u001b[38;5;241m.\u001b[39m_sampler_iter \u001b[38;5;129;01mis\u001b[39;00m \u001b[38;5;28;01mNone\u001b[39;00m:\n\u001b[1;32m    699\u001b[0m     \u001b[38;5;66;03m# TODO(https://github.com/pytorch/pytorch/issues/76750)\u001b[39;00m\n\u001b[1;32m    700\u001b[0m     \u001b[38;5;28mself\u001b[39m\u001b[38;5;241m.\u001b[39m_reset()  \u001b[38;5;66;03m# type: ignore[call-arg]\u001b[39;00m\n\u001b[0;32m--> 701\u001b[0m data \u001b[38;5;241m=\u001b[39m \u001b[38;5;28;43mself\u001b[39;49m\u001b[38;5;241;43m.\u001b[39;49m\u001b[43m_next_data\u001b[49m\u001b[43m(\u001b[49m\u001b[43m)\u001b[49m\n\u001b[1;32m    702\u001b[0m \u001b[38;5;28mself\u001b[39m\u001b[38;5;241m.\u001b[39m_num_yielded \u001b[38;5;241m+\u001b[39m\u001b[38;5;241m=\u001b[39m \u001b[38;5;241m1\u001b[39m\n\u001b[1;32m    703\u001b[0m \u001b[38;5;28;01mif\u001b[39;00m (\n\u001b[1;32m    704\u001b[0m     \u001b[38;5;28mself\u001b[39m\u001b[38;5;241m.\u001b[39m_dataset_kind \u001b[38;5;241m==\u001b[39m _DatasetKind\u001b[38;5;241m.\u001b[39mIterable\n\u001b[1;32m    705\u001b[0m     \u001b[38;5;129;01mand\u001b[39;00m \u001b[38;5;28mself\u001b[39m\u001b[38;5;241m.\u001b[39m_IterableDataset_len_called \u001b[38;5;129;01mis\u001b[39;00m \u001b[38;5;129;01mnot\u001b[39;00m \u001b[38;5;28;01mNone\u001b[39;00m\n\u001b[1;32m    706\u001b[0m     \u001b[38;5;129;01mand\u001b[39;00m \u001b[38;5;28mself\u001b[39m\u001b[38;5;241m.\u001b[39m_num_yielded \u001b[38;5;241m>\u001b[39m \u001b[38;5;28mself\u001b[39m\u001b[38;5;241m.\u001b[39m_IterableDataset_len_called\n\u001b[1;32m    707\u001b[0m ):\n",
      "File \u001b[0;32m~/.cache/pypoetry/virtualenvs/test-CNQ6TiHS-py3.12/lib/python3.12/site-packages/torch/utils/data/dataloader.py:757\u001b[0m, in \u001b[0;36m_SingleProcessDataLoaderIter._next_data\u001b[0;34m(self)\u001b[0m\n\u001b[1;32m    755\u001b[0m \u001b[38;5;28;01mdef\u001b[39;00m \u001b[38;5;21m_next_data\u001b[39m(\u001b[38;5;28mself\u001b[39m):\n\u001b[1;32m    756\u001b[0m     index \u001b[38;5;241m=\u001b[39m \u001b[38;5;28mself\u001b[39m\u001b[38;5;241m.\u001b[39m_next_index()  \u001b[38;5;66;03m# may raise StopIteration\u001b[39;00m\n\u001b[0;32m--> 757\u001b[0m     data \u001b[38;5;241m=\u001b[39m \u001b[38;5;28;43mself\u001b[39;49m\u001b[38;5;241;43m.\u001b[39;49m\u001b[43m_dataset_fetcher\u001b[49m\u001b[38;5;241;43m.\u001b[39;49m\u001b[43mfetch\u001b[49m\u001b[43m(\u001b[49m\u001b[43mindex\u001b[49m\u001b[43m)\u001b[49m  \u001b[38;5;66;03m# may raise StopIteration\u001b[39;00m\n\u001b[1;32m    758\u001b[0m     \u001b[38;5;28;01mif\u001b[39;00m \u001b[38;5;28mself\u001b[39m\u001b[38;5;241m.\u001b[39m_pin_memory:\n\u001b[1;32m    759\u001b[0m         data \u001b[38;5;241m=\u001b[39m _utils\u001b[38;5;241m.\u001b[39mpin_memory\u001b[38;5;241m.\u001b[39mpin_memory(data, \u001b[38;5;28mself\u001b[39m\u001b[38;5;241m.\u001b[39m_pin_memory_device)\n",
      "File \u001b[0;32m~/.cache/pypoetry/virtualenvs/test-CNQ6TiHS-py3.12/lib/python3.12/site-packages/torch/utils/data/_utils/fetch.py:52\u001b[0m, in \u001b[0;36m_MapDatasetFetcher.fetch\u001b[0;34m(self, possibly_batched_index)\u001b[0m\n\u001b[1;32m     50\u001b[0m         data \u001b[38;5;241m=\u001b[39m \u001b[38;5;28mself\u001b[39m\u001b[38;5;241m.\u001b[39mdataset\u001b[38;5;241m.\u001b[39m__getitems__(possibly_batched_index)\n\u001b[1;32m     51\u001b[0m     \u001b[38;5;28;01melse\u001b[39;00m:\n\u001b[0;32m---> 52\u001b[0m         data \u001b[38;5;241m=\u001b[39m [\u001b[38;5;28;43mself\u001b[39;49m\u001b[38;5;241;43m.\u001b[39;49m\u001b[43mdataset\u001b[49m\u001b[43m[\u001b[49m\u001b[43midx\u001b[49m\u001b[43m]\u001b[49m \u001b[38;5;28;01mfor\u001b[39;00m idx \u001b[38;5;129;01min\u001b[39;00m possibly_batched_index]\n\u001b[1;32m     53\u001b[0m \u001b[38;5;28;01melse\u001b[39;00m:\n\u001b[1;32m     54\u001b[0m     data \u001b[38;5;241m=\u001b[39m \u001b[38;5;28mself\u001b[39m\u001b[38;5;241m.\u001b[39mdataset[possibly_batched_index]\n",
      "Cell \u001b[0;32mIn[3], line 222\u001b[0m, in \u001b[0;36mFrameGeneratorDataset.__getitem__\u001b[0;34m(self, idx)\u001b[0m\n\u001b[1;32m    219\u001b[0m class_name \u001b[38;5;241m=\u001b[39m get_class(fname)\n\u001b[1;32m    221\u001b[0m \u001b[38;5;66;03m# Extract frames from the video file\u001b[39;00m\n\u001b[0;32m--> 222\u001b[0m video_frames \u001b[38;5;241m=\u001b[39m \u001b[43mframes_from_video_file\u001b[49m\u001b[43m(\u001b[49m\u001b[43mpath\u001b[49m\u001b[43m,\u001b[49m\u001b[43m \u001b[49m\u001b[38;5;28;43mself\u001b[39;49m\u001b[38;5;241;43m.\u001b[39;49m\u001b[43mn_frames\u001b[49m\u001b[43m,\u001b[49m\u001b[43m \u001b[49m\u001b[43mframe_step\u001b[49m\u001b[38;5;241;43m=\u001b[39;49m\u001b[38;5;28;43mself\u001b[39;49m\u001b[38;5;241;43m.\u001b[39;49m\u001b[43mframe_step\u001b[49m\u001b[43m)\u001b[49m\n\u001b[1;32m    224\u001b[0m \u001b[38;5;66;03m# Get label by encoding the class name\u001b[39;00m\n\u001b[1;32m    225\u001b[0m label \u001b[38;5;241m=\u001b[39m \u001b[38;5;28mself\u001b[39m\u001b[38;5;241m.\u001b[39mclass_ids_for_name[class_name]\n",
      "Cell \u001b[0;32mIn[3], line 169\u001b[0m, in \u001b[0;36mframes_from_video_file\u001b[0;34m(video_path, n_frames, output_size, frame_step)\u001b[0m\n\u001b[1;32m    167\u001b[0m     ret, frame \u001b[38;5;241m=\u001b[39m src\u001b[38;5;241m.\u001b[39mread()\n\u001b[1;32m    168\u001b[0m \u001b[38;5;28;01mif\u001b[39;00m ret:\n\u001b[0;32m--> 169\u001b[0m     frame \u001b[38;5;241m=\u001b[39m \u001b[43mformat_frames\u001b[49m\u001b[43m(\u001b[49m\u001b[43mframe\u001b[49m\u001b[43m,\u001b[49m\u001b[43m \u001b[49m\u001b[43moutput_size\u001b[49m\u001b[43m)\u001b[49m\n\u001b[1;32m    170\u001b[0m     result\u001b[38;5;241m.\u001b[39mappend(frame)\n\u001b[1;32m    171\u001b[0m \u001b[38;5;28;01melse\u001b[39;00m:\n",
      "Cell \u001b[0;32mIn[3], line 124\u001b[0m, in \u001b[0;36mformat_frames\u001b[0;34m(frame, output_size)\u001b[0m\n\u001b[1;32m    120\u001b[0m frame \u001b[38;5;241m=\u001b[39m np\u001b[38;5;241m.\u001b[39mtranspose(frame, (\u001b[38;5;241m2\u001b[39m, \u001b[38;5;241m0\u001b[39m, \u001b[38;5;241m1\u001b[39m))\n\u001b[1;32m    121\u001b[0m transform \u001b[38;5;241m=\u001b[39m T\u001b[38;5;241m.\u001b[39mCompose([\n\u001b[1;32m    122\u001b[0m     T\u001b[38;5;241m.\u001b[39mResize(output_size)\n\u001b[1;32m    123\u001b[0m ])\n\u001b[0;32m--> 124\u001b[0m frame \u001b[38;5;241m=\u001b[39m \u001b[43mtransform\u001b[49m\u001b[43m(\u001b[49m\u001b[43mtorch\u001b[49m\u001b[38;5;241;43m.\u001b[39;49m\u001b[43mfrom_numpy\u001b[49m\u001b[43m(\u001b[49m\u001b[43mframe\u001b[49m\u001b[43m)\u001b[49m\u001b[43m)\u001b[49m\n\u001b[1;32m    125\u001b[0m \u001b[38;5;28;01mreturn\u001b[39;00m frame\n",
      "File \u001b[0;32m~/.cache/pypoetry/virtualenvs/test-CNQ6TiHS-py3.12/lib/python3.12/site-packages/torchvision/transforms/transforms.py:95\u001b[0m, in \u001b[0;36mCompose.__call__\u001b[0;34m(self, img)\u001b[0m\n\u001b[1;32m     93\u001b[0m \u001b[38;5;28;01mdef\u001b[39;00m \u001b[38;5;21m__call__\u001b[39m(\u001b[38;5;28mself\u001b[39m, img):\n\u001b[1;32m     94\u001b[0m     \u001b[38;5;28;01mfor\u001b[39;00m t \u001b[38;5;129;01min\u001b[39;00m \u001b[38;5;28mself\u001b[39m\u001b[38;5;241m.\u001b[39mtransforms:\n\u001b[0;32m---> 95\u001b[0m         img \u001b[38;5;241m=\u001b[39m \u001b[43mt\u001b[49m\u001b[43m(\u001b[49m\u001b[43mimg\u001b[49m\u001b[43m)\u001b[49m\n\u001b[1;32m     96\u001b[0m     \u001b[38;5;28;01mreturn\u001b[39;00m img\n",
      "File \u001b[0;32m~/.cache/pypoetry/virtualenvs/test-CNQ6TiHS-py3.12/lib/python3.12/site-packages/torch/nn/modules/module.py:1736\u001b[0m, in \u001b[0;36mModule._wrapped_call_impl\u001b[0;34m(self, *args, **kwargs)\u001b[0m\n\u001b[1;32m   1734\u001b[0m     \u001b[38;5;28;01mreturn\u001b[39;00m \u001b[38;5;28mself\u001b[39m\u001b[38;5;241m.\u001b[39m_compiled_call_impl(\u001b[38;5;241m*\u001b[39margs, \u001b[38;5;241m*\u001b[39m\u001b[38;5;241m*\u001b[39mkwargs)  \u001b[38;5;66;03m# type: ignore[misc]\u001b[39;00m\n\u001b[1;32m   1735\u001b[0m \u001b[38;5;28;01melse\u001b[39;00m:\n\u001b[0;32m-> 1736\u001b[0m     \u001b[38;5;28;01mreturn\u001b[39;00m \u001b[38;5;28;43mself\u001b[39;49m\u001b[38;5;241;43m.\u001b[39;49m\u001b[43m_call_impl\u001b[49m\u001b[43m(\u001b[49m\u001b[38;5;241;43m*\u001b[39;49m\u001b[43margs\u001b[49m\u001b[43m,\u001b[49m\u001b[43m \u001b[49m\u001b[38;5;241;43m*\u001b[39;49m\u001b[38;5;241;43m*\u001b[39;49m\u001b[43mkwargs\u001b[49m\u001b[43m)\u001b[49m\n",
      "File \u001b[0;32m~/.cache/pypoetry/virtualenvs/test-CNQ6TiHS-py3.12/lib/python3.12/site-packages/torch/nn/modules/module.py:1747\u001b[0m, in \u001b[0;36mModule._call_impl\u001b[0;34m(self, *args, **kwargs)\u001b[0m\n\u001b[1;32m   1742\u001b[0m \u001b[38;5;66;03m# If we don't have any hooks, we want to skip the rest of the logic in\u001b[39;00m\n\u001b[1;32m   1743\u001b[0m \u001b[38;5;66;03m# this function, and just call forward.\u001b[39;00m\n\u001b[1;32m   1744\u001b[0m \u001b[38;5;28;01mif\u001b[39;00m \u001b[38;5;129;01mnot\u001b[39;00m (\u001b[38;5;28mself\u001b[39m\u001b[38;5;241m.\u001b[39m_backward_hooks \u001b[38;5;129;01mor\u001b[39;00m \u001b[38;5;28mself\u001b[39m\u001b[38;5;241m.\u001b[39m_backward_pre_hooks \u001b[38;5;129;01mor\u001b[39;00m \u001b[38;5;28mself\u001b[39m\u001b[38;5;241m.\u001b[39m_forward_hooks \u001b[38;5;129;01mor\u001b[39;00m \u001b[38;5;28mself\u001b[39m\u001b[38;5;241m.\u001b[39m_forward_pre_hooks\n\u001b[1;32m   1745\u001b[0m         \u001b[38;5;129;01mor\u001b[39;00m _global_backward_pre_hooks \u001b[38;5;129;01mor\u001b[39;00m _global_backward_hooks\n\u001b[1;32m   1746\u001b[0m         \u001b[38;5;129;01mor\u001b[39;00m _global_forward_hooks \u001b[38;5;129;01mor\u001b[39;00m _global_forward_pre_hooks):\n\u001b[0;32m-> 1747\u001b[0m     \u001b[38;5;28;01mreturn\u001b[39;00m \u001b[43mforward_call\u001b[49m\u001b[43m(\u001b[49m\u001b[38;5;241;43m*\u001b[39;49m\u001b[43margs\u001b[49m\u001b[43m,\u001b[49m\u001b[43m \u001b[49m\u001b[38;5;241;43m*\u001b[39;49m\u001b[38;5;241;43m*\u001b[39;49m\u001b[43mkwargs\u001b[49m\u001b[43m)\u001b[49m\n\u001b[1;32m   1749\u001b[0m result \u001b[38;5;241m=\u001b[39m \u001b[38;5;28;01mNone\u001b[39;00m\n\u001b[1;32m   1750\u001b[0m called_always_called_hooks \u001b[38;5;241m=\u001b[39m \u001b[38;5;28mset\u001b[39m()\n",
      "File \u001b[0;32m~/.cache/pypoetry/virtualenvs/test-CNQ6TiHS-py3.12/lib/python3.12/site-packages/torchvision/transforms/transforms.py:354\u001b[0m, in \u001b[0;36mResize.forward\u001b[0;34m(self, img)\u001b[0m\n\u001b[1;32m    346\u001b[0m \u001b[38;5;28;01mdef\u001b[39;00m \u001b[38;5;21mforward\u001b[39m(\u001b[38;5;28mself\u001b[39m, img):\n\u001b[1;32m    347\u001b[0m \u001b[38;5;250m    \u001b[39m\u001b[38;5;124;03m\"\"\"\u001b[39;00m\n\u001b[1;32m    348\u001b[0m \u001b[38;5;124;03m    Args:\u001b[39;00m\n\u001b[1;32m    349\u001b[0m \u001b[38;5;124;03m        img (PIL Image or Tensor): Image to be scaled.\u001b[39;00m\n\u001b[0;32m   (...)\u001b[0m\n\u001b[1;32m    352\u001b[0m \u001b[38;5;124;03m        PIL Image or Tensor: Rescaled image.\u001b[39;00m\n\u001b[1;32m    353\u001b[0m \u001b[38;5;124;03m    \"\"\"\u001b[39;00m\n\u001b[0;32m--> 354\u001b[0m     \u001b[38;5;28;01mreturn\u001b[39;00m \u001b[43mF\u001b[49m\u001b[38;5;241;43m.\u001b[39;49m\u001b[43mresize\u001b[49m\u001b[43m(\u001b[49m\u001b[43mimg\u001b[49m\u001b[43m,\u001b[49m\u001b[43m \u001b[49m\u001b[38;5;28;43mself\u001b[39;49m\u001b[38;5;241;43m.\u001b[39;49m\u001b[43msize\u001b[49m\u001b[43m,\u001b[49m\u001b[43m \u001b[49m\u001b[38;5;28;43mself\u001b[39;49m\u001b[38;5;241;43m.\u001b[39;49m\u001b[43minterpolation\u001b[49m\u001b[43m,\u001b[49m\u001b[43m \u001b[49m\u001b[38;5;28;43mself\u001b[39;49m\u001b[38;5;241;43m.\u001b[39;49m\u001b[43mmax_size\u001b[49m\u001b[43m,\u001b[49m\u001b[43m \u001b[49m\u001b[38;5;28;43mself\u001b[39;49m\u001b[38;5;241;43m.\u001b[39;49m\u001b[43mantialias\u001b[49m\u001b[43m)\u001b[49m\n",
      "File \u001b[0;32m~/.cache/pypoetry/virtualenvs/test-CNQ6TiHS-py3.12/lib/python3.12/site-packages/torchvision/transforms/functional.py:479\u001b[0m, in \u001b[0;36mresize\u001b[0;34m(img, size, interpolation, max_size, antialias)\u001b[0m\n\u001b[1;32m    476\u001b[0m     pil_interpolation \u001b[38;5;241m=\u001b[39m pil_modes_mapping[interpolation]\n\u001b[1;32m    477\u001b[0m     \u001b[38;5;28;01mreturn\u001b[39;00m F_pil\u001b[38;5;241m.\u001b[39mresize(img, size\u001b[38;5;241m=\u001b[39moutput_size, interpolation\u001b[38;5;241m=\u001b[39mpil_interpolation)\n\u001b[0;32m--> 479\u001b[0m \u001b[38;5;28;01mreturn\u001b[39;00m \u001b[43mF_t\u001b[49m\u001b[38;5;241;43m.\u001b[39;49m\u001b[43mresize\u001b[49m\u001b[43m(\u001b[49m\u001b[43mimg\u001b[49m\u001b[43m,\u001b[49m\u001b[43m \u001b[49m\u001b[43msize\u001b[49m\u001b[38;5;241;43m=\u001b[39;49m\u001b[43moutput_size\u001b[49m\u001b[43m,\u001b[49m\u001b[43m \u001b[49m\u001b[43minterpolation\u001b[49m\u001b[38;5;241;43m=\u001b[39;49m\u001b[43minterpolation\u001b[49m\u001b[38;5;241;43m.\u001b[39;49m\u001b[43mvalue\u001b[49m\u001b[43m,\u001b[49m\u001b[43m \u001b[49m\u001b[43mantialias\u001b[49m\u001b[38;5;241;43m=\u001b[39;49m\u001b[43mantialias\u001b[49m\u001b[43m)\u001b[49m\n",
      "File \u001b[0;32m~/.cache/pypoetry/virtualenvs/test-CNQ6TiHS-py3.12/lib/python3.12/site-packages/torchvision/transforms/_functional_tensor.py:467\u001b[0m, in \u001b[0;36mresize\u001b[0;34m(img, size, interpolation, antialias)\u001b[0m\n\u001b[1;32m    464\u001b[0m \u001b[38;5;66;03m# Define align_corners to avoid warnings\u001b[39;00m\n\u001b[1;32m    465\u001b[0m align_corners \u001b[38;5;241m=\u001b[39m \u001b[38;5;28;01mFalse\u001b[39;00m \u001b[38;5;28;01mif\u001b[39;00m interpolation \u001b[38;5;129;01min\u001b[39;00m [\u001b[38;5;124m\"\u001b[39m\u001b[38;5;124mbilinear\u001b[39m\u001b[38;5;124m\"\u001b[39m, \u001b[38;5;124m\"\u001b[39m\u001b[38;5;124mbicubic\u001b[39m\u001b[38;5;124m\"\u001b[39m] \u001b[38;5;28;01melse\u001b[39;00m \u001b[38;5;28;01mNone\u001b[39;00m\n\u001b[0;32m--> 467\u001b[0m img \u001b[38;5;241m=\u001b[39m \u001b[43minterpolate\u001b[49m\u001b[43m(\u001b[49m\u001b[43mimg\u001b[49m\u001b[43m,\u001b[49m\u001b[43m \u001b[49m\u001b[43msize\u001b[49m\u001b[38;5;241;43m=\u001b[39;49m\u001b[43msize\u001b[49m\u001b[43m,\u001b[49m\u001b[43m \u001b[49m\u001b[43mmode\u001b[49m\u001b[38;5;241;43m=\u001b[39;49m\u001b[43minterpolation\u001b[49m\u001b[43m,\u001b[49m\u001b[43m \u001b[49m\u001b[43malign_corners\u001b[49m\u001b[38;5;241;43m=\u001b[39;49m\u001b[43malign_corners\u001b[49m\u001b[43m,\u001b[49m\u001b[43m \u001b[49m\u001b[43mantialias\u001b[49m\u001b[38;5;241;43m=\u001b[39;49m\u001b[43mantialias\u001b[49m\u001b[43m)\u001b[49m\n\u001b[1;32m    469\u001b[0m \u001b[38;5;28;01mif\u001b[39;00m interpolation \u001b[38;5;241m==\u001b[39m \u001b[38;5;124m\"\u001b[39m\u001b[38;5;124mbicubic\u001b[39m\u001b[38;5;124m\"\u001b[39m \u001b[38;5;129;01mand\u001b[39;00m out_dtype \u001b[38;5;241m==\u001b[39m torch\u001b[38;5;241m.\u001b[39muint8:\n\u001b[1;32m    470\u001b[0m     img \u001b[38;5;241m=\u001b[39m img\u001b[38;5;241m.\u001b[39mclamp(\u001b[38;5;28mmin\u001b[39m\u001b[38;5;241m=\u001b[39m\u001b[38;5;241m0\u001b[39m, \u001b[38;5;28mmax\u001b[39m\u001b[38;5;241m=\u001b[39m\u001b[38;5;241m255\u001b[39m)\n",
      "File \u001b[0;32m~/.cache/pypoetry/virtualenvs/test-CNQ6TiHS-py3.12/lib/python3.12/site-packages/torch/nn/functional.py:4565\u001b[0m, in \u001b[0;36minterpolate\u001b[0;34m(input, size, scale_factor, mode, align_corners, recompute_scale_factor, antialias)\u001b[0m\n\u001b[1;32m   4563\u001b[0m \u001b[38;5;28;01massert\u001b[39;00m align_corners \u001b[38;5;129;01mis\u001b[39;00m \u001b[38;5;129;01mnot\u001b[39;00m \u001b[38;5;28;01mNone\u001b[39;00m\n\u001b[1;32m   4564\u001b[0m \u001b[38;5;28;01mif\u001b[39;00m antialias:\n\u001b[0;32m-> 4565\u001b[0m     \u001b[38;5;28;01mreturn\u001b[39;00m \u001b[43mtorch\u001b[49m\u001b[38;5;241;43m.\u001b[39;49m\u001b[43m_C\u001b[49m\u001b[38;5;241;43m.\u001b[39;49m\u001b[43m_nn\u001b[49m\u001b[38;5;241;43m.\u001b[39;49m\u001b[43m_upsample_bilinear2d_aa\u001b[49m\u001b[43m(\u001b[49m\n\u001b[1;32m   4566\u001b[0m \u001b[43m        \u001b[49m\u001b[38;5;28;43minput\u001b[39;49m\u001b[43m,\u001b[49m\u001b[43m \u001b[49m\u001b[43moutput_size\u001b[49m\u001b[43m,\u001b[49m\u001b[43m \u001b[49m\u001b[43malign_corners\u001b[49m\u001b[43m,\u001b[49m\u001b[43m \u001b[49m\u001b[43mscale_factors\u001b[49m\n\u001b[1;32m   4567\u001b[0m \u001b[43m    \u001b[49m\u001b[43m)\u001b[49m\n\u001b[1;32m   4568\u001b[0m \u001b[38;5;66;03m# Two levels are necessary to prevent TorchScript from touching\u001b[39;00m\n\u001b[1;32m   4569\u001b[0m \u001b[38;5;66;03m# are_deterministic_algorithms_enabled.\u001b[39;00m\n\u001b[1;32m   4570\u001b[0m \u001b[38;5;28;01mif\u001b[39;00m \u001b[38;5;129;01mnot\u001b[39;00m torch\u001b[38;5;241m.\u001b[39mjit\u001b[38;5;241m.\u001b[39mis_scripting():\n",
      "\u001b[0;31mKeyboardInterrupt\u001b[0m: "
     ]
    }
   ],
   "source": [
    "# Training\n",
    "\n",
    "history = train_model(model, optimizer, criterion, train_loader, val_loader)"
   ]
  },
  {
   "cell_type": "code",
   "execution_count": 15,
   "metadata": {
    "execution": {
     "iopub.execute_input": "2024-11-19T15:29:51.016359Z",
     "iopub.status.busy": "2024-11-19T15:29:51.015329Z",
     "iopub.status.idle": "2024-11-19T15:29:51.429890Z",
     "shell.execute_reply": "2024-11-19T15:29:51.429089Z",
     "shell.execute_reply.started": "2024-11-19T15:29:51.016312Z"
    },
    "trusted": true
   },
   "outputs": [
    {
     "data": {
      "image/png": "[encoded data removed]",
      "text/plain": [
       "<Figure size 1200x500 with 2 Axes>"
      ]
     },
     "metadata": {},
     "output_type": "display_data"
    }
   ],
   "source": [
    "import numpy as np\n",
    "import matplotlib.pyplot as plt\n",
    "\n",
    "\n",
    "# Plotting training losses and accuracy\n",
    "plt.figure(figsize=(12, 5))\n",
    "\n",
    "plt.subplot(1, 2, 1)\n",
    "plt.plot(history[\"train_loss\"], label='Train Loss')\n",
    "plt.plot(history[\"val_loss\"], label='Val Loss')\n",
    "plt.title('Training Loss')\n",
    "plt.xlabel('Epochs')\n",
    "plt.ylabel('Loss')\n",
    "plt.legend()\n",
    "\n",
    "plt.subplot(1, 2, 2)\n",
    "plt.plot(history[\"train_accuracy\"], label='Train Accuracy')\n",
    "plt.plot(history[\"val_accuracy\"], label='Val Accuracy')\n",
    "plt.title('Training Accuracy')\n",
    "plt.xlabel('Epochs')\n",
    "plt.ylabel('Accuracy')\n",
    "plt.legend()\n",
    "\n",
    "plt.tight_layout()\n",
    "plt.show()"
   ]
  },
  {
   "cell_type": "code",
   "execution_count": 19,
   "metadata": {
    "execution": {
     "iopub.execute_input": "2024-11-19T15:24:07.825842Z",
     "iopub.status.busy": "2024-11-19T15:24:07.825480Z",
     "iopub.status.idle": "2024-11-19T15:24:07.832410Z",
     "shell.execute_reply": "2024-11-19T15:24:07.831430Z",
     "shell.execute_reply.started": "2024-11-19T15:24:07.825811Z"
    },
    "trusted": true
   },
   "outputs": [],
   "source": [
    "# Generate actual and predicted labels\n",
    "def get_actual_predicted_labels(model, dataset_loader):\n",
    "    model.eval()\n",
    "    actual = []\n",
    "    predicted = []\n",
    "    all_probas = []\n",
    "    with torch.no_grad():\n",
    "        for frames, labels in dataset_loader:\n",
    "            frames = frames.to(device)\n",
    "            outputs = model(frames)\n",
    "            _, preds = torch.max(outputs, 1)\n",
    "            actual.append(labels.cpu())\n",
    "            predicted.append(preds.cpu())\n",
    "            \n",
    "            # Apply softmax to get probabilities\n",
    "            probas = F.softmax(outputs, dim=1)\n",
    "            all_probas.append(probas.cpu())\n",
    "\n",
    "    # Concatenate all batches into single arrays\n",
    "    all_probas = torch.cat(all_probas, dim=0).numpy()\n",
    "    actual = torch.cat(actual, dim=0).numpy()\n",
    "    predicted = torch.cat(predicted, dim=0).numpy()\n",
    "    return actual, predicted, all_probas"
   ]
  },
  {
   "cell_type": "code",
   "execution_count": 20,
   "metadata": {
    "execution": {
     "iopub.execute_input": "2024-11-19T15:28:17.285185Z",
     "iopub.status.busy": "2024-11-19T15:28:17.284411Z",
     "iopub.status.idle": "2024-11-19T15:28:24.131931Z",
     "shell.execute_reply": "2024-11-19T15:28:24.131016Z",
     "shell.execute_reply.started": "2024-11-19T15:28:17.285152Z"
    },
    "trusted": true
   },
   "outputs": [
    {
     "name": "stderr",
     "output_type": "stream",
     "text": [
      "Val: 100%|██████████| 6/6 [00:51<00:00,  8.66s/it]\n"
     ]
    },
    {
     "data": {
      "text/plain": [
       "(2.4017584323883057, 0.364)"
      ]
     },
     "execution_count": 20,
     "metadata": {},
     "output_type": "execute_result"
    }
   ],
   "source": [
    "evaluate_model(model, test_loader, criterion)"
   ]
  },
  {
   "cell_type": "code",
   "execution_count": 21,
   "metadata": {
    "execution": {
     "iopub.execute_input": "2024-11-19T15:28:38.704903Z",
     "iopub.status.busy": "2024-11-19T15:28:38.704553Z",
     "iopub.status.idle": "2024-11-19T15:28:45.560240Z",
     "shell.execute_reply": "2024-11-19T15:28:45.559459Z",
     "shell.execute_reply.started": "2024-11-19T15:28:38.704872Z"
    },
    "trusted": true
   },
   "outputs": [],
   "source": [
    "y_true, y_pred, y_proba = get_actual_predicted_labels(model, test_loader)"
   ]
  },
  {
   "cell_type": "code",
   "execution_count": 22,
   "metadata": {
    "execution": {
     "iopub.execute_input": "2024-11-19T15:28:52.899995Z",
     "iopub.status.busy": "2024-11-19T15:28:52.899621Z",
     "iopub.status.idle": "2024-11-19T15:28:53.722104Z",
     "shell.execute_reply": "2024-11-19T15:28:53.721290Z",
     "shell.execute_reply.started": "2024-11-19T15:28:52.899963Z"
    },
    "trusted": true
   },
   "outputs": [
    {
     "data": {
      "image/png": "[encoded data removed]",
      "text/plain": [
       "<Figure size 1200x800 with 1 Axes>"
      ]
     },
     "metadata": {},
     "output_type": "display_data"
    },
    {
     "name": "stdout",
     "output_type": "stream",
     "text": [
      "F1 per class:\n",
      "Class 0 - 0.7222222222222222\n",
      "Class 1 - 0.11764705882352941\n",
      "Class 2 - 0.32786885245901637\n",
      "Class 3 - 0.4827586206896552\n",
      "Class 4 - 1.0\n",
      "Class 5 - 0.9285714285714286\n",
      "Class 6 - 0.25\n",
      "Class 7 - 0.7647058823529411\n",
      "Class 8 - 0.0\n",
      "Class 9 - 0.5161290322580645\n",
      "Class 10 - 0.42424242424242425\n",
      "Class 11 - 0.46153846153846156\n",
      "Class 12 - 0.47058823529411764\n",
      "Class 13 - 0.23809523809523808\n",
      "Class 14 - 0.2857142857142857\n",
      "Class 15 - 0.38095238095238093\n",
      "Class 16 - 0.09090909090909091\n",
      "Class 17 - 0.26666666666666666\n",
      "Class 18 - 0.26666666666666666\n",
      "Class 19 - 0.3333333333333333\n",
      "Class 20 - 0.19047619047619047\n",
      "Class 21 - 0.5625\n",
      "Class 22 - 0.0\n",
      "Class 23 - 0.2727272727272727\n",
      "Class 24 - 0.26666666666666666\n",
      "Class 25 - 0.09090909090909091\n",
      "Class 26 - 0.55\n",
      "Class 27 - 0.0\n",
      "Class 28 - 0.11764705882352941\n",
      "Class 29 - 0.48484848484848486\n",
      "Class 30 - 0.375\n",
      "Class 31 - 0.08\n",
      "Class 32 - 0.4878048780487805\n",
      "Class 33 - 0.25\n",
      "Class 34 - 0.3157894736842105\n",
      "Class 35 - 0.07142857142857142\n",
      "Class 36 - 0.3888888888888889\n",
      "Class 37 - 0.2222222222222222\n",
      "Class 38 - 0.34782608695652173\n",
      "Class 39 - 0.7142857142857143\n",
      "Class 40 - 0.5945945945945946\n",
      "Class 41 - 0.10526315789473684\n",
      "Class 42 - 0.21052631578947367\n",
      "Class 43 - 0.4\n",
      "Class 44 - 0.3870967741935484\n",
      "Class 45 - 0.42105263157894735\n",
      "Class 46 - 0.21052631578947367\n",
      "Class 47 - 0.2608695652173913\n",
      "Class 48 - 0.16666666666666666\n",
      "Class 49 - 0.5454545454545454\n",
      "\n",
      "Precision per class:\n",
      "Class 0 - 0.6190476190476191\n",
      "Class 1 - 0.5\n",
      "Class 2 - 0.21739130434782608\n",
      "Class 3 - 0.5\n",
      "Class 4 - 1.0\n",
      "Class 5 - 1.0\n",
      "Class 6 - 0.23529411764705882\n",
      "Class 7 - 0.6842105263157895\n",
      "Class 8 - 0.0\n",
      "Class 9 - 0.5\n",
      "Class 10 - 0.3888888888888889\n",
      "Class 11 - 0.5454545454545454\n",
      "Class 12 - 0.42105263157894735\n",
      "Class 13 - 0.18518518518518517\n",
      "Class 14 - 0.2222222222222222\n",
      "Class 15 - 0.6666666666666666\n",
      "Class 16 - 0.14285714285714285\n",
      "Class 17 - 0.26666666666666666\n",
      "Class 18 - 0.2\n",
      "Class 19 - 0.2857142857142857\n",
      "Class 20 - 0.3333333333333333\n",
      "Class 21 - 0.5294117647058824\n",
      "Class 22 - 0.0\n",
      "Class 23 - 0.42857142857142855\n",
      "Class 24 - 0.26666666666666666\n",
      "Class 25 - 0.14285714285714285\n",
      "Class 26 - 0.44\n",
      "Class 27 - 0.0\n",
      "Class 28 - 0.5\n",
      "Class 29 - 0.4444444444444444\n",
      "Class 30 - 0.35294117647058826\n",
      "Class 31 - 0.1\n",
      "Class 32 - 0.38461538461538464\n",
      "Class 33 - 0.23529411764705882\n",
      "Class 34 - 0.75\n",
      "Class 35 - 0.07692307692307693\n",
      "Class 36 - 0.3333333333333333\n",
      "Class 37 - 0.25\n",
      "Class 38 - 0.5\n",
      "Class 39 - 0.7692307692307693\n",
      "Class 40 - 0.5\n",
      "Class 41 - 0.25\n",
      "Class 42 - 0.5\n",
      "Class 43 - 0.8\n",
      "Class 44 - 0.375\n",
      "Class 45 - 0.34782608695652173\n",
      "Class 46 - 0.17391304347826086\n",
      "Class 47 - 0.1935483870967742\n",
      "Class 48 - 0.2222222222222222\n",
      "Class 49 - 0.5\n",
      "\n",
      "Recall per class:\n",
      "Class 0 - 0.8666666666666667\n",
      "Class 1 - 0.06666666666666667\n",
      "Class 2 - 0.6666666666666666\n",
      "Class 3 - 0.4666666666666667\n",
      "Class 4 - 1.0\n",
      "Class 5 - 0.8666666666666667\n",
      "Class 6 - 0.26666666666666666\n",
      "Class 7 - 0.8666666666666667\n",
      "Class 8 - 0.0\n",
      "Class 9 - 0.5333333333333333\n",
      "Class 10 - 0.4666666666666667\n",
      "Class 11 - 0.4\n",
      "Class 12 - 0.5333333333333333\n",
      "Class 13 - 0.3333333333333333\n",
      "Class 14 - 0.4\n",
      "Class 15 - 0.26666666666666666\n",
      "Class 16 - 0.06666666666666667\n",
      "Class 17 - 0.26666666666666666\n",
      "Class 18 - 0.4\n",
      "Class 19 - 0.4\n",
      "Class 20 - 0.13333333333333333\n",
      "Class 21 - 0.6\n",
      "Class 22 - 0.0\n",
      "Class 23 - 0.2\n",
      "Class 24 - 0.26666666666666666\n",
      "Class 25 - 0.06666666666666667\n",
      "Class 26 - 0.7333333333333333\n",
      "Class 27 - 0.0\n",
      "Class 28 - 0.06666666666666667\n",
      "Class 29 - 0.5333333333333333\n",
      "Class 30 - 0.4\n",
      "Class 31 - 0.06666666666666667\n",
      "Class 32 - 0.6666666666666666\n",
      "Class 33 - 0.26666666666666666\n",
      "Class 34 - 0.2\n",
      "Class 35 - 0.06666666666666667\n",
      "Class 36 - 0.4666666666666667\n",
      "Class 37 - 0.2\n",
      "Class 38 - 0.26666666666666666\n",
      "Class 39 - 0.6666666666666666\n",
      "Class 40 - 0.7333333333333333\n",
      "Class 41 - 0.06666666666666667\n",
      "Class 42 - 0.13333333333333333\n",
      "Class 43 - 0.26666666666666666\n",
      "Class 44 - 0.4\n",
      "Class 45 - 0.5333333333333333\n",
      "Class 46 - 0.26666666666666666\n",
      "Class 47 - 0.4\n",
      "Class 48 - 0.13333333333333333\n",
      "Class 49 - 0.6\n",
      "\n",
      "ROC-AUC per class:\n",
      "Class 0 - 0.9957369614512472\n",
      "Class 1 - 0.8676643990929706\n",
      "Class 2 - 0.9640816326530612\n",
      "Class 3 - 0.9631746031746031\n",
      "Class 4 - 1.0\n",
      "Class 5 - 1.0\n",
      "Class 6 - 0.8832653061224489\n",
      "Class 7 - 0.9910204081632653\n",
      "Class 8 - 0.928798185941043\n",
      "Class 9 - 0.9407709750566893\n",
      "Class 10 - 0.9691609977324263\n",
      "Class 11 - 0.9668027210884353\n",
      "Class 12 - 0.9759637188208617\n",
      "Class 13 - 0.9538321995464852\n",
      "Class 14 - 0.8477097505668933\n",
      "Class 15 - 0.9368707482993197\n",
      "Class 16 - 0.8649433106575963\n",
      "Class 17 - 0.8606802721088436\n",
      "Class 18 - 0.9207256235827666\n",
      "Class 19 - 0.8946031746031746\n",
      "Class 20 - 0.8253061224489796\n",
      "Class 21 - 0.9569160997732427\n",
      "Class 22 - 0.9217233560090703\n",
      "Class 23 - 0.8586848072562359\n",
      "Class 24 - 0.8909750566893424\n",
      "Class 25 - 0.923718820861678\n",
      "Class 26 - 0.9806802721088436\n",
      "Class 27 - 0.9372335600907029\n",
      "Class 28 - 0.9341496598639456\n",
      "Class 29 - 0.9292517006802721\n",
      "Class 30 - 0.9406802721088435\n",
      "Class 31 - 0.8615873015873017\n",
      "Class 32 - 0.9868480725623583\n",
      "Class 33 - 0.7382312925170068\n",
      "Class 34 - 0.860498866213152\n",
      "Class 35 - 0.8384580498866213\n",
      "Class 36 - 0.9509297052154194\n",
      "Class 37 - 0.8917006802721088\n",
      "Class 38 - 0.9117460317460317\n",
      "Class 39 - 0.9683446712018141\n",
      "Class 40 - 0.993015873015873\n",
      "Class 41 - 0.8649433106575963\n",
      "Class 42 - 0.9161904761904762\n",
      "Class 43 - 0.8484353741496599\n",
      "Class 44 - 0.8926077097505669\n",
      "Class 45 - 0.9732426303854875\n",
      "Class 46 - 0.8443537414965987\n",
      "Class 47 - 0.9392290249433106\n",
      "Class 48 - 0.8968707482993198\n",
      "Class 49 - 0.922358276643991\n",
      "Macro-average ROC-AUC: 0.92\n"
     ]
    }
   ],
   "source": [
    "from sklearn.metrics import precision_score, recall_score, roc_auc_score, roc_curve, auc, f1_score\n",
    "\n",
    "\n",
    "# Calculate precision and recall for each class\n",
    "precision = precision_score(y_true, y_pred, average=None, zero_division=0)\n",
    "recall = recall_score(y_true, y_pred, average=None, zero_division=0)\n",
    "f1 = f1_score(y_true, y_pred, average=None, zero_division=0)\n",
    "\n",
    "roc_auc_per_class = []\n",
    "\n",
    "# Plotting ROC curves for each class\n",
    "plt.figure(figsize=(12, 8))\n",
    "for i in range(num_classes):\n",
    "    y_true_binary = (y_true == i).astype(int)\n",
    "    roc_auc = roc_auc_score(y_true_binary, y_proba[:, i])\n",
    "    roc_auc_per_class.append(roc_auc)\n",
    "    fpr, tpr, _ = roc_curve(y_true_binary, y_proba[:, i])\n",
    "    plt.plot(fpr, tpr, label=f'Class {i} (AUC = {roc_auc_per_class[i]:.2f})')\n",
    "\n",
    "# Macro average ROC-AUC\n",
    "roc_auc_macro = np.mean(roc_auc_per_class)\n",
    "\n",
    "plt.title('ROC-AUC Curve')\n",
    "plt.xlabel('False Positive Rate (FPR)')\n",
    "plt.ylabel('True Positive Rate (TPR)')\n",
    "# plt.legend()\n",
    "plt.show()\n",
    "\n",
    "# Output metrics\n",
    "print(\"F1 per class:\")\n",
    "for i in range(num_classes):\n",
    "    print(\"Class\", i, \"-\", f1[i])\n",
    "print()\n",
    "\n",
    "print(\"Precision per class:\")\n",
    "for i in range(num_classes):\n",
    "    print(\"Class\", i, \"-\", precision[i])\n",
    "print()\n",
    "\n",
    "print(\"Recall per class:\")\n",
    "for i in range(num_classes):\n",
    "    print(\"Class\", i, \"-\", recall[i])\n",
    "print()\n",
    "\n",
    "print(\"ROC-AUC per class:\")\n",
    "for i in range(num_classes):\n",
    "    print(\"Class\", i, \"-\", roc_auc_per_class[i])\n",
    "    \n",
    "print(f\"Macro-average ROC-AUC: {roc_auc_macro:.2f}\")"
   ]
  }
 ],
 "metadata": {
  "colab": {
   "provenance": []
  },
  "kaggle": {
   "accelerator": "nvidiaTeslaT4",
   "dataSources": [
    {
     "datasetId": 6137134,
     "sourceId": 9974726,
     "sourceType": "datasetVersion"
    }
   ],
   "dockerImageVersionId": 30787,
   "isGpuEnabled": true,
   "isInternetEnabled": true,
   "language": "python",
   "sourceType": "notebook"
  },
  "kernelspec": {
   "display_name": "test-CNQ6TiHS-py3.12",
   "language": "python",
   "name": "python3"
  },
  "language_info": {
   "codemirror_mode": {
    "name": "ipython",
    "version": 3
   },
   "file_extension": ".py",
   "mimetype": "text/x-python",
   "name": "python",
   "nbconvert_exporter": "python",
   "pygments_lexer": "ipython3",
   "version": "3.12.7"
  }
 },
 "nbformat": 4,
 "nbformat_minor": 4
}
